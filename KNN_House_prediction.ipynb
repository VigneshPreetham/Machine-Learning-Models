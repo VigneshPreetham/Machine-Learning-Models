{
 "cells": [
  {
   "cell_type": "code",
   "execution_count": 1,
   "metadata": {},
   "outputs": [],
   "source": [
    "# import libraries\n",
    "import numpy as np\n",
    "import pandas as pd\n",
    "import matplotlib.pyplot as plt\n",
    "import seaborn as sns\n",
    "\n",
    "from scipy.stats import multivariate_normal as mvn\n",
    "\n",
    "import warnings\n",
    "warnings.filterwarnings(\"ignore\")\n",
    "\n",
    "import geopy\n",
    "from geopy.geocoders import Nominatim"
   ]
  },
  {
   "cell_type": "code",
   "execution_count": 2,
   "metadata": {},
   "outputs": [
    {
     "data": {
      "text/html": [
       "<div>\n",
       "<style scoped>\n",
       "    .dataframe tbody tr th:only-of-type {\n",
       "        vertical-align: middle;\n",
       "    }\n",
       "\n",
       "    .dataframe tbody tr th {\n",
       "        vertical-align: top;\n",
       "    }\n",
       "\n",
       "    .dataframe thead th {\n",
       "        text-align: right;\n",
       "    }\n",
       "</style>\n",
       "<table border=\"1\" class=\"dataframe\">\n",
       "  <thead>\n",
       "    <tr style=\"text-align: right;\">\n",
       "      <th></th>\n",
       "      <th>MLS</th>\n",
       "      <th>sold_price</th>\n",
       "      <th>zipcode</th>\n",
       "      <th>longitude</th>\n",
       "      <th>latitude</th>\n",
       "      <th>lot_acres</th>\n",
       "      <th>taxes</th>\n",
       "      <th>year_built</th>\n",
       "      <th>bedrooms</th>\n",
       "      <th>bathrooms</th>\n",
       "      <th>sqrt_ft</th>\n",
       "      <th>garage</th>\n",
       "      <th>kitchen_features</th>\n",
       "      <th>fireplaces</th>\n",
       "      <th>floor_covering</th>\n",
       "      <th>HOA</th>\n",
       "    </tr>\n",
       "  </thead>\n",
       "  <tbody>\n",
       "    <tr>\n",
       "      <th>0</th>\n",
       "      <td>21530491</td>\n",
       "      <td>5300000.0</td>\n",
       "      <td>85637</td>\n",
       "      <td>-110.378200</td>\n",
       "      <td>31.356362</td>\n",
       "      <td>2154.00</td>\n",
       "      <td>5272.00</td>\n",
       "      <td>1941</td>\n",
       "      <td>13</td>\n",
       "      <td>10</td>\n",
       "      <td>10500</td>\n",
       "      <td>0</td>\n",
       "      <td>Dishwasher, Freezer, Refrigerator, Oven</td>\n",
       "      <td>6</td>\n",
       "      <td>Mexican Tile, Wood</td>\n",
       "      <td>0</td>\n",
       "    </tr>\n",
       "    <tr>\n",
       "      <th>1</th>\n",
       "      <td>21529082</td>\n",
       "      <td>4200000.0</td>\n",
       "      <td>85646</td>\n",
       "      <td>-111.045371</td>\n",
       "      <td>31.594213</td>\n",
       "      <td>1707.00</td>\n",
       "      <td>10422.36</td>\n",
       "      <td>1997</td>\n",
       "      <td>2</td>\n",
       "      <td>2</td>\n",
       "      <td>7300</td>\n",
       "      <td>0</td>\n",
       "      <td>Dishwasher, Garbage Disposal</td>\n",
       "      <td>5</td>\n",
       "      <td>Natural Stone, Other</td>\n",
       "      <td>0</td>\n",
       "    </tr>\n",
       "    <tr>\n",
       "      <th>2</th>\n",
       "      <td>3054672</td>\n",
       "      <td>4200000.0</td>\n",
       "      <td>85646</td>\n",
       "      <td>-111.040707</td>\n",
       "      <td>31.594844</td>\n",
       "      <td>1707.00</td>\n",
       "      <td>10482.00</td>\n",
       "      <td>1997</td>\n",
       "      <td>2</td>\n",
       "      <td>3</td>\n",
       "      <td>None</td>\n",
       "      <td>None</td>\n",
       "      <td>Dishwasher, Garbage Disposal, Refrigerator</td>\n",
       "      <td>5</td>\n",
       "      <td>Natural Stone, Other: Rock</td>\n",
       "      <td>None</td>\n",
       "    </tr>\n",
       "    <tr>\n",
       "      <th>3</th>\n",
       "      <td>21919321</td>\n",
       "      <td>4500000.0</td>\n",
       "      <td>85646</td>\n",
       "      <td>-111.035925</td>\n",
       "      <td>31.645878</td>\n",
       "      <td>636.67</td>\n",
       "      <td>8418.58</td>\n",
       "      <td>1930</td>\n",
       "      <td>7</td>\n",
       "      <td>5</td>\n",
       "      <td>9019</td>\n",
       "      <td>4</td>\n",
       "      <td>Dishwasher, Double Sink, Pantry: Butler, Refri...</td>\n",
       "      <td>4</td>\n",
       "      <td>Ceramic Tile, Laminate, Wood</td>\n",
       "      <td>None</td>\n",
       "    </tr>\n",
       "    <tr>\n",
       "      <th>4</th>\n",
       "      <td>21306357</td>\n",
       "      <td>3411450.0</td>\n",
       "      <td>85750</td>\n",
       "      <td>-110.813768</td>\n",
       "      <td>32.285162</td>\n",
       "      <td>3.21</td>\n",
       "      <td>15393.00</td>\n",
       "      <td>1995</td>\n",
       "      <td>4</td>\n",
       "      <td>6</td>\n",
       "      <td>6396</td>\n",
       "      <td>3</td>\n",
       "      <td>Dishwasher, Garbage Disposal, Refrigerator, Mi...</td>\n",
       "      <td>5</td>\n",
       "      <td>Carpet, Concrete</td>\n",
       "      <td>55</td>\n",
       "    </tr>\n",
       "  </tbody>\n",
       "</table>\n",
       "</div>"
      ],
      "text/plain": [
       "        MLS  sold_price  zipcode   longitude   latitude  lot_acres     taxes  \\\n",
       "0  21530491   5300000.0    85637 -110.378200  31.356362    2154.00   5272.00   \n",
       "1  21529082   4200000.0    85646 -111.045371  31.594213    1707.00  10422.36   \n",
       "2   3054672   4200000.0    85646 -111.040707  31.594844    1707.00  10482.00   \n",
       "3  21919321   4500000.0    85646 -111.035925  31.645878     636.67   8418.58   \n",
       "4  21306357   3411450.0    85750 -110.813768  32.285162       3.21  15393.00   \n",
       "\n",
       "   year_built  bedrooms bathrooms sqrt_ft garage  \\\n",
       "0        1941        13        10   10500      0   \n",
       "1        1997         2         2    7300      0   \n",
       "2        1997         2         3    None   None   \n",
       "3        1930         7         5    9019      4   \n",
       "4        1995         4         6    6396      3   \n",
       "\n",
       "                                    kitchen_features fireplaces  \\\n",
       "0            Dishwasher, Freezer, Refrigerator, Oven          6   \n",
       "1                       Dishwasher, Garbage Disposal          5   \n",
       "2         Dishwasher, Garbage Disposal, Refrigerator          5   \n",
       "3  Dishwasher, Double Sink, Pantry: Butler, Refri...          4   \n",
       "4  Dishwasher, Garbage Disposal, Refrigerator, Mi...          5   \n",
       "\n",
       "                 floor_covering   HOA  \n",
       "0            Mexican Tile, Wood     0  \n",
       "1          Natural Stone, Other     0  \n",
       "2    Natural Stone, Other: Rock  None  \n",
       "3  Ceramic Tile, Laminate, Wood  None  \n",
       "4              Carpet, Concrete    55  "
      ]
     },
     "execution_count": 2,
     "metadata": {},
     "output_type": "execute_result"
    }
   ],
   "source": [
    "# read the data file\n",
    "ncdata1 = pd.read_csv(\"~/Desktop/Work/ML_EIT/Data/raw_house_data.csv\")\n",
    "ncdata1.head()"
   ]
  },
  {
   "cell_type": "code",
   "execution_count": 3,
   "metadata": {},
   "outputs": [
    {
     "name": "stdout",
     "output_type": "stream",
     "text": [
      "(5000, 16)\n",
      "<class 'pandas.core.frame.DataFrame'>\n",
      "RangeIndex: 5000 entries, 0 to 4999\n",
      "Data columns (total 16 columns):\n",
      " #   Column            Non-Null Count  Dtype  \n",
      "---  ------            --------------  -----  \n",
      " 0   MLS               5000 non-null   int64  \n",
      " 1   sold_price        5000 non-null   float64\n",
      " 2   zipcode           5000 non-null   int64  \n",
      " 3   longitude         5000 non-null   float64\n",
      " 4   latitude          5000 non-null   float64\n",
      " 5   lot_acres         4990 non-null   float64\n",
      " 6   taxes             5000 non-null   float64\n",
      " 7   year_built        5000 non-null   int64  \n",
      " 8   bedrooms          5000 non-null   int64  \n",
      " 9   bathrooms         5000 non-null   object \n",
      " 10  sqrt_ft           5000 non-null   object \n",
      " 11  garage            5000 non-null   object \n",
      " 12  kitchen_features  5000 non-null   object \n",
      " 13  fireplaces        5000 non-null   object \n",
      " 14  floor_covering    5000 non-null   object \n",
      " 15  HOA               5000 non-null   object \n",
      "dtypes: float64(5), int64(4), object(7)\n",
      "memory usage: 625.1+ KB\n"
     ]
    }
   ],
   "source": [
    "print(ncdata1.shape)\n",
    "ncdata1.info()"
   ]
  },
  {
   "cell_type": "code",
   "execution_count": 4,
   "metadata": {},
   "outputs": [
    {
     "data": {
      "text/plain": [
       "Index(['MLS', 'sold_price', 'zipcode', 'longitude', 'latitude', 'lot_acres',\n",
       "       'taxes', 'year_built', 'bedrooms', 'bathrooms', 'sqrt_ft', 'garage',\n",
       "       'kitchen_features', 'fireplaces', 'floor_covering', 'HOA'],\n",
       "      dtype='object')"
      ]
     },
     "execution_count": 4,
     "metadata": {},
     "output_type": "execute_result"
    }
   ],
   "source": [
    "# Data variables\n",
    "ncdata1.columns"
   ]
  },
  {
   "cell_type": "code",
   "execution_count": 5,
   "metadata": {},
   "outputs": [
    {
     "name": "stdout",
     "output_type": "stream",
     "text": [
      "(5000, 11)\n"
     ]
    }
   ],
   "source": [
    "# Drop the 'MLS\", kitchen_features', 'floor_covering'\n",
    "ncdata1 = ncdata1.drop(columns = ['MLS', 'kitchen_features', 'floor_covering',\"fireplaces\",\"HOA\"])\n",
    "# Data shape (number of rwos and columns)\n",
    "print(ncdata1.shape)"
   ]
  },
  {
   "cell_type": "code",
   "execution_count": 6,
   "metadata": {},
   "outputs": [
    {
     "data": {
      "text/plain": [
       "Index(['sold_price', 'zipcode', 'longitude', 'latitude', 'lot_acres', 'taxes',\n",
       "       'year_built', 'bedrooms', 'bathrooms', 'sqrt_ft', 'garage'],\n",
       "      dtype='object')"
      ]
     },
     "execution_count": 6,
     "metadata": {},
     "output_type": "execute_result"
    }
   ],
   "source": [
    "ncdata1.columns"
   ]
  },
  {
   "cell_type": "code",
   "execution_count": 7,
   "metadata": {},
   "outputs": [],
   "source": [
    "# Replacing any special characters to NaN values in the entire data frame\n",
    "ncdata1 = ncdata1.replace(r'^\\s*$',np.nan, regex = True)\n",
    "# Replace \"none' to \"NaN\" values in the data frame\n",
    "\n",
    "col_none = list(ncdata1.columns)\n",
    "ncdata1 = ncdata1[col_none].replace(['None'],'NaN')\n",
    "ncdata1.replace(0., np.nan, inplace= True)"
   ]
  },
  {
   "cell_type": "code",
   "execution_count": 8,
   "metadata": {},
   "outputs": [
    {
     "data": {
      "text/plain": [
       "sold_price    float64\n",
       "zipcode         int64\n",
       "longitude     float64\n",
       "latitude      float64\n",
       "lot_acres     float64\n",
       "taxes         float64\n",
       "year_built      int64\n",
       "bedrooms        int64\n",
       "bathrooms     float64\n",
       "sqrt_ft       float64\n",
       "garage        float64\n",
       "dtype: object"
      ]
     },
     "execution_count": 8,
     "metadata": {},
     "output_type": "execute_result"
    }
   ],
   "source": [
    "# convert columns: object to float  \n",
    "cols = ['sqrt_ft', 'garage', 'bathrooms']\n",
    "ncdata1[cols] = ncdata1[cols].astype('float')\n",
    "ncdata1.dtypes"
   ]
  },
  {
   "cell_type": "code",
   "execution_count": 9,
   "metadata": {},
   "outputs": [],
   "source": [
    "#since all the columns with missing data were skewed\n",
    "ncdata1['lot_acres'] = ncdata1['lot_acres'].fillna(ncdata1['lot_acres'].mode()[0])\n",
    "ncdata1['sqrt_ft'] = ncdata1['sqrt_ft'].fillna(ncdata1['sqrt_ft'].mode()[0])\n",
    "# ncdata1['fireplaces'] = ncdata1['fireplaces'].fillna(ncdata1['fireplaces'].mode()[0])\n",
    "ncdata1['garage'] = ncdata1['garage'].fillna(ncdata1['garage'].mode()[0])\n",
    "ncdata1['bathrooms'] = ncdata1['bathrooms'].fillna(ncdata1['bathrooms'].mode()[0])"
   ]
  },
  {
   "cell_type": "code",
   "execution_count": 10,
   "metadata": {},
   "outputs": [
    {
     "name": "stdout",
     "output_type": "stream",
     "text": [
      "Badrooms (min, max)   :  1 36\n",
      "Bathrooms (min, max)  :  1.0 36.0\n",
      "Square_foot (min, max):  1100.0 22408.0\n",
      "Year built (min, max) :  0 2019\n",
      "garage (min, max) :  0.0 30.0\n"
     ]
    }
   ],
   "source": [
    "# checking the outliers\n",
    "print(\"Badrooms (min, max)   : \",min(ncdata1.bedrooms),max(ncdata1.bedrooms))\n",
    "print(\"Bathrooms (min, max)  : \",min(ncdata1.bathrooms),max(ncdata1.bathrooms))\n",
    "print(\"Square_foot (min, max): \",min(ncdata1.sqrt_ft),max(ncdata1.sqrt_ft))\n",
    "print(\"Year built (min, max) : \",min(ncdata1.year_built),max(ncdata1.year_built))\n",
    "print(\"garage (min, max) : \",min(ncdata1.garage),max(ncdata1.garage))"
   ]
  },
  {
   "cell_type": "code",
   "execution_count": 11,
   "metadata": {},
   "outputs": [
    {
     "name": "stdout",
     "output_type": "stream",
     "text": [
      "(4991, 11)\n"
     ]
    }
   ],
   "source": [
    "#Removing the outlier rows in the datasets\n",
    "# print(bdata[bdata.bedrooms > 30])\n",
    "ncdata1.drop(ncdata1[ncdata1.bedrooms > 30].index, inplace = True) \n",
    "ncdata1.drop(ncdata1[ncdata1.bathrooms > 30].index, inplace = True) \n",
    "ncdata1.drop(ncdata1[ncdata1.year_built <= 0].index, inplace = True) \n",
    "ncdata1.drop(ncdata1[ncdata1.year_built >= 2020].index, inplace = True)\n",
    "print(ncdata1.shape)"
   ]
  },
  {
   "cell_type": "code",
   "execution_count": 12,
   "metadata": {},
   "outputs": [
    {
     "name": "stdout",
     "output_type": "stream",
     "text": [
      "Badrooms (min, max)   :  1 19\n",
      "Bathrooms (min, max)  :  1.0 18.0\n",
      "Square_foot (min, max):  1100.0 12808.0\n",
      "Year built (min, max) :  1893 2019\n"
     ]
    }
   ],
   "source": [
    "# checking the outliers\n",
    "print(\"Badrooms (min, max)   : \",min(ncdata1.bedrooms),max(ncdata1.bedrooms))\n",
    "print(\"Bathrooms (min, max)  : \",min(ncdata1.bathrooms),max(ncdata1.bathrooms))\n",
    "print(\"Square_foot (min, max): \",min(ncdata1.sqrt_ft),max(ncdata1.sqrt_ft))\n",
    "print(\"Year built (min, max) : \",min(ncdata1.year_built),max(ncdata1.year_built))"
   ]
  },
  {
   "cell_type": "code",
   "execution_count": 13,
   "metadata": {},
   "outputs": [],
   "source": [
    "# Replace Nan to mean value (important)\n",
    "# ncdata.fillna(ncdata.mean())\n",
    "ncdata1.fillna(ncdata1.median(), inplace=True)"
   ]
  },
  {
   "cell_type": "code",
   "execution_count": 14,
   "metadata": {},
   "outputs": [
    {
     "data": {
      "text/plain": [
       "sold_price    0\n",
       "zipcode       0\n",
       "longitude     0\n",
       "latitude      0\n",
       "lot_acres     0\n",
       "taxes         0\n",
       "year_built    0\n",
       "bedrooms      0\n",
       "bathrooms     0\n",
       "sqrt_ft       0\n",
       "garage        0\n",
       "dtype: int64"
      ]
     },
     "execution_count": 14,
     "metadata": {},
     "output_type": "execute_result"
    }
   ],
   "source": [
    "ncdata1.isnull().sum()"
   ]
  },
  {
   "cell_type": "code",
   "execution_count": 15,
   "metadata": {},
   "outputs": [],
   "source": [
    "# Picking the lon/latitude values near place\n",
    "geolocator=Nominatim(user_agent='myapp')"
   ]
  },
  {
   "cell_type": "code",
   "execution_count": 16,
   "metadata": {},
   "outputs": [
    {
     "name": "stdout",
     "output_type": "stream",
     "text": [
      "32.464260544113415 -111.06449135902294\n"
     ]
    }
   ],
   "source": [
    "# from geopy.geocoders import Nominatim\n",
    "# address=\"10441 E Port Townsend St Tucson, AZ 85747\"\n",
    "address=\"4650, West Lone Ridge Place, Marana, Pima County, Arizona, 85658\"\n",
    "# address=\"5000, East Via Estancia, Catalina, Pima County, Arizona, 85739\"\n",
    "# address = \"4650, West Lone Ridge Place, Marana, Pima County, Arizona, 85658\"\n",
    "# find the lon/lat using address\n",
    "mlocation = geolocator.geocode(address)\n",
    "mlat, mlon = mlocation.latitude, mlocation.longitude\n",
    "print(mlocation.latitude, mlocation.longitude)"
   ]
  },
  {
   "cell_type": "code",
   "execution_count": 17,
   "metadata": {},
   "outputs": [
    {
     "name": "stdout",
     "output_type": "stream",
     "text": [
      "3783\n"
     ]
    },
    {
     "data": {
      "text/plain": [
       "(3783, 11)"
      ]
     },
     "execution_count": 17,
     "metadata": {},
     "output_type": "execute_result"
    }
   ],
   "source": [
    "indx = np.where(((ncdata1.latitude >= (mlat-0.2)) & (ncdata1.latitude < (mlat+0.2))) &((ncdata1.longitude > (mlon-0.3)) & (ncdata1.longitude < (mlon+0.3))))[0]\n",
    "print(len(indx))\n",
    "\n",
    "# Picking the the selected region indices and write into another Table \n",
    "ncdata2 = ncdata1.iloc[indx,:]\n",
    "ncdata2.shape"
   ]
  },
  {
   "cell_type": "code",
   "execution_count": 18,
   "metadata": {},
   "outputs": [
    {
     "name": "stdout",
     "output_type": "stream",
     "text": [
      "<class 'pandas.core.frame.DataFrame'>\n",
      "Int64Index: 3783 entries, 4 to 4998\n",
      "Data columns (total 11 columns):\n",
      " #   Column      Non-Null Count  Dtype  \n",
      "---  ------      --------------  -----  \n",
      " 0   sold_price  3783 non-null   float64\n",
      " 1   zipcode     3783 non-null   int64  \n",
      " 2   longitude   3783 non-null   float64\n",
      " 3   latitude    3783 non-null   float64\n",
      " 4   lot_acres   3783 non-null   float64\n",
      " 5   taxes       3783 non-null   float64\n",
      " 6   year_built  3783 non-null   int64  \n",
      " 7   bedrooms    3783 non-null   int64  \n",
      " 8   bathrooms   3783 non-null   float64\n",
      " 9   sqrt_ft     3783 non-null   float64\n",
      " 10  garage      3783 non-null   float64\n",
      "dtypes: float64(8), int64(3)\n",
      "memory usage: 354.7 KB\n"
     ]
    }
   ],
   "source": [
    "ncdata2.info()"
   ]
  },
  {
   "cell_type": "code",
   "execution_count": 19,
   "metadata": {},
   "outputs": [],
   "source": [
    "# Normalize entire data frame except long and latitude columns: Panda\n",
    "def normalize(dataset):\n",
    "    dataNorm=((dataset-dataset.min())/(dataset.max()-dataset.min()))\n",
    "#     print(\"Minimum: \",dataset.min())\n",
    "#     dataNorm[\"longitude\"] = dataset[\"longitude\"]\n",
    "#     dataNorm[\"latitude\"] = dataset[\"latitude\"]\n",
    "    return dataNorm"
   ]
  },
  {
   "cell_type": "code",
   "execution_count": 20,
   "metadata": {},
   "outputs": [
    {
     "name": "stdout",
     "output_type": "stream",
     "text": [
      "(3783, 11)\n"
     ]
    },
    {
     "data": {
      "text/html": [
       "<div>\n",
       "<style scoped>\n",
       "    .dataframe tbody tr th:only-of-type {\n",
       "        vertical-align: middle;\n",
       "    }\n",
       "\n",
       "    .dataframe tbody tr th {\n",
       "        vertical-align: top;\n",
       "    }\n",
       "\n",
       "    .dataframe thead th {\n",
       "        text-align: right;\n",
       "    }\n",
       "</style>\n",
       "<table border=\"1\" class=\"dataframe\">\n",
       "  <thead>\n",
       "    <tr style=\"text-align: right;\">\n",
       "      <th></th>\n",
       "      <th>sold_price</th>\n",
       "      <th>zipcode</th>\n",
       "      <th>longitude</th>\n",
       "      <th>latitude</th>\n",
       "      <th>lot_acres</th>\n",
       "      <th>taxes</th>\n",
       "      <th>year_built</th>\n",
       "      <th>bedrooms</th>\n",
       "      <th>bathrooms</th>\n",
       "      <th>sqrt_ft</th>\n",
       "      <th>garage</th>\n",
       "    </tr>\n",
       "  </thead>\n",
       "  <tbody>\n",
       "    <tr>\n",
       "      <th>4</th>\n",
       "      <td>0.913218</td>\n",
       "      <td>0.962121</td>\n",
       "      <td>0.883988</td>\n",
       "      <td>0.064159</td>\n",
       "      <td>0.030977</td>\n",
       "      <td>0.001260</td>\n",
       "      <td>0.730337</td>\n",
       "      <td>0.333333</td>\n",
       "      <td>0.5</td>\n",
       "      <td>0.498579</td>\n",
       "      <td>0.100000</td>\n",
       "    </tr>\n",
       "    <tr>\n",
       "      <th>5</th>\n",
       "      <td>0.864662</td>\n",
       "      <td>0.719697</td>\n",
       "      <td>0.655114</td>\n",
       "      <td>0.229899</td>\n",
       "      <td>0.016023</td>\n",
       "      <td>0.002276</td>\n",
       "      <td>0.775281</td>\n",
       "      <td>0.222222</td>\n",
       "      <td>0.3</td>\n",
       "      <td>0.543849</td>\n",
       "      <td>0.100000</td>\n",
       "    </tr>\n",
       "    <tr>\n",
       "      <th>7</th>\n",
       "      <td>0.639098</td>\n",
       "      <td>0.962121</td>\n",
       "      <td>0.772337</td>\n",
       "      <td>0.206889</td>\n",
       "      <td>0.010196</td>\n",
       "      <td>0.001772</td>\n",
       "      <td>0.910112</td>\n",
       "      <td>0.555556</td>\n",
       "      <td>0.7</td>\n",
       "      <td>0.754872</td>\n",
       "      <td>0.133333</td>\n",
       "    </tr>\n",
       "    <tr>\n",
       "      <th>8</th>\n",
       "      <td>1.000000</td>\n",
       "      <td>0.719697</td>\n",
       "      <td>0.651419</td>\n",
       "      <td>0.243763</td>\n",
       "      <td>0.065158</td>\n",
       "      <td>0.002054</td>\n",
       "      <td>0.808989</td>\n",
       "      <td>0.444444</td>\n",
       "      <td>0.6</td>\n",
       "      <td>0.381039</td>\n",
       "      <td>0.100000</td>\n",
       "    </tr>\n",
       "    <tr>\n",
       "      <th>9</th>\n",
       "      <td>0.864662</td>\n",
       "      <td>0.962121</td>\n",
       "      <td>0.826827</td>\n",
       "      <td>0.194509</td>\n",
       "      <td>0.034084</td>\n",
       "      <td>0.001550</td>\n",
       "      <td>0.865169</td>\n",
       "      <td>0.444444</td>\n",
       "      <td>0.5</td>\n",
       "      <td>0.507105</td>\n",
       "      <td>0.100000</td>\n",
       "    </tr>\n",
       "  </tbody>\n",
       "</table>\n",
       "</div>"
      ],
      "text/plain": [
       "   sold_price   zipcode  longitude  latitude  lot_acres     taxes  year_built  \\\n",
       "4    0.913218  0.962121   0.883988  0.064159   0.030977  0.001260    0.730337   \n",
       "5    0.864662  0.719697   0.655114  0.229899   0.016023  0.002276    0.775281   \n",
       "7    0.639098  0.962121   0.772337  0.206889   0.010196  0.001772    0.910112   \n",
       "8    1.000000  0.719697   0.651419  0.243763   0.065158  0.002054    0.808989   \n",
       "9    0.864662  0.962121   0.826827  0.194509   0.034084  0.001550    0.865169   \n",
       "\n",
       "   bedrooms  bathrooms   sqrt_ft    garage  \n",
       "4  0.333333        0.5  0.498579  0.100000  \n",
       "5  0.222222        0.3  0.543849  0.100000  \n",
       "7  0.555556        0.7  0.754872  0.133333  \n",
       "8  0.444444        0.6  0.381039  0.100000  \n",
       "9  0.444444        0.5  0.507105  0.100000  "
      ]
     },
     "execution_count": 20,
     "metadata": {},
     "output_type": "execute_result"
    }
   ],
   "source": [
    "ncdata =normalize(ncdata2)\n",
    "print(ncdata.shape)\n",
    "# ncdata.sample(5)\n",
    "ncdata[0:5]"
   ]
  },
  {
   "cell_type": "code",
   "execution_count": 21,
   "metadata": {},
   "outputs": [],
   "source": [
    "# revert the normalize entire data frame except long and latitude columns: Panda\n",
    "# pass normalized data and original data(ncdata2 in this file)\n",
    "def revertnormalize(normdata,orgdata):\n",
    "    revNorm = ((normdata)*(orgdata.max()-orgdata.min())) + orgdata.min()\n",
    "#     print(\"Minimum: \",datasett.min())\n",
    "#     revNorm[\"longitude\"] = datasett[\"longitude\"]\n",
    "#     revNorm[\"latitude\"] = datasett[\"latitude\"]\n",
    "    return revNorm"
   ]
  },
  {
   "cell_type": "code",
   "execution_count": 22,
   "metadata": {},
   "outputs": [],
   "source": [
    "# ncdata2[0:5]"
   ]
  },
  {
   "cell_type": "code",
   "execution_count": 23,
   "metadata": {},
   "outputs": [
    {
     "name": "stdout",
     "output_type": "stream",
     "text": [
      "(3783, 11)\n"
     ]
    },
    {
     "data": {
      "text/html": [
       "<div>\n",
       "<style scoped>\n",
       "    .dataframe tbody tr th:only-of-type {\n",
       "        vertical-align: middle;\n",
       "    }\n",
       "\n",
       "    .dataframe tbody tr th {\n",
       "        vertical-align: top;\n",
       "    }\n",
       "\n",
       "    .dataframe thead th {\n",
       "        text-align: right;\n",
       "    }\n",
       "</style>\n",
       "<table border=\"1\" class=\"dataframe\">\n",
       "  <thead>\n",
       "    <tr style=\"text-align: right;\">\n",
       "      <th></th>\n",
       "      <th>sold_price</th>\n",
       "      <th>zipcode</th>\n",
       "      <th>longitude</th>\n",
       "      <th>latitude</th>\n",
       "      <th>lot_acres</th>\n",
       "      <th>taxes</th>\n",
       "      <th>year_built</th>\n",
       "      <th>bedrooms</th>\n",
       "      <th>bathrooms</th>\n",
       "      <th>sqrt_ft</th>\n",
       "      <th>garage</th>\n",
       "    </tr>\n",
       "  </thead>\n",
       "  <tbody>\n",
       "    <tr>\n",
       "      <th>4</th>\n",
       "      <td>3411450.0</td>\n",
       "      <td>85750.0</td>\n",
       "      <td>-110.813768</td>\n",
       "      <td>32.285162</td>\n",
       "      <td>3.21</td>\n",
       "      <td>15393.00</td>\n",
       "      <td>1995.0</td>\n",
       "      <td>4.0</td>\n",
       "      <td>6.0</td>\n",
       "      <td>6396.0</td>\n",
       "      <td>3.0</td>\n",
       "    </tr>\n",
       "    <tr>\n",
       "      <th>5</th>\n",
       "      <td>3250000.0</td>\n",
       "      <td>85718.0</td>\n",
       "      <td>-110.910593</td>\n",
       "      <td>32.339090</td>\n",
       "      <td>1.67</td>\n",
       "      <td>27802.84</td>\n",
       "      <td>1999.0</td>\n",
       "      <td>3.0</td>\n",
       "      <td>4.0</td>\n",
       "      <td>6842.0</td>\n",
       "      <td>3.0</td>\n",
       "    </tr>\n",
       "    <tr>\n",
       "      <th>7</th>\n",
       "      <td>2500000.0</td>\n",
       "      <td>85750.0</td>\n",
       "      <td>-110.861002</td>\n",
       "      <td>32.331603</td>\n",
       "      <td>1.07</td>\n",
       "      <td>21646.00</td>\n",
       "      <td>2011.0</td>\n",
       "      <td>6.0</td>\n",
       "      <td>8.0</td>\n",
       "      <td>8921.0</td>\n",
       "      <td>4.0</td>\n",
       "    </tr>\n",
       "    <tr>\n",
       "      <th>8</th>\n",
       "      <td>3700000.0</td>\n",
       "      <td>85718.0</td>\n",
       "      <td>-110.912156</td>\n",
       "      <td>32.343601</td>\n",
       "      <td>6.73</td>\n",
       "      <td>25094.39</td>\n",
       "      <td>2002.0</td>\n",
       "      <td>5.0</td>\n",
       "      <td>7.0</td>\n",
       "      <td>5238.0</td>\n",
       "      <td>3.0</td>\n",
       "    </tr>\n",
       "    <tr>\n",
       "      <th>9</th>\n",
       "      <td>3250000.0</td>\n",
       "      <td>85750.0</td>\n",
       "      <td>-110.837950</td>\n",
       "      <td>32.327575</td>\n",
       "      <td>3.53</td>\n",
       "      <td>18936.11</td>\n",
       "      <td>2007.0</td>\n",
       "      <td>5.0</td>\n",
       "      <td>6.0</td>\n",
       "      <td>6480.0</td>\n",
       "      <td>3.0</td>\n",
       "    </tr>\n",
       "  </tbody>\n",
       "</table>\n",
       "</div>"
      ],
      "text/plain": [
       "   sold_price  zipcode   longitude   latitude  lot_acres     taxes  \\\n",
       "4   3411450.0  85750.0 -110.813768  32.285162       3.21  15393.00   \n",
       "5   3250000.0  85718.0 -110.910593  32.339090       1.67  27802.84   \n",
       "7   2500000.0  85750.0 -110.861002  32.331603       1.07  21646.00   \n",
       "8   3700000.0  85718.0 -110.912156  32.343601       6.73  25094.39   \n",
       "9   3250000.0  85750.0 -110.837950  32.327575       3.53  18936.11   \n",
       "\n",
       "   year_built  bedrooms  bathrooms  sqrt_ft  garage  \n",
       "4      1995.0       4.0        6.0   6396.0     3.0  \n",
       "5      1999.0       3.0        4.0   6842.0     3.0  \n",
       "7      2011.0       6.0        8.0   8921.0     4.0  \n",
       "8      2002.0       5.0        7.0   5238.0     3.0  \n",
       "9      2007.0       5.0        6.0   6480.0     3.0  "
      ]
     },
     "execution_count": 23,
     "metadata": {},
     "output_type": "execute_result"
    }
   ],
   "source": [
    "revncdata =revertnormalize(ncdata,ncdata2)\n",
    "print(revncdata.shape)\n",
    "# revncdata.sample(5)\n",
    "revncdata[0:5]"
   ]
  },
  {
   "cell_type": "code",
   "execution_count": 24,
   "metadata": {},
   "outputs": [
    {
     "name": "stdout",
     "output_type": "stream",
     "text": [
      "(3783, 5)\n"
     ]
    },
    {
     "data": {
      "text/html": [
       "<div>\n",
       "<style scoped>\n",
       "    .dataframe tbody tr th:only-of-type {\n",
       "        vertical-align: middle;\n",
       "    }\n",
       "\n",
       "    .dataframe tbody tr th {\n",
       "        vertical-align: top;\n",
       "    }\n",
       "\n",
       "    .dataframe thead th {\n",
       "        text-align: right;\n",
       "    }\n",
       "</style>\n",
       "<table border=\"1\" class=\"dataframe\">\n",
       "  <thead>\n",
       "    <tr style=\"text-align: right;\">\n",
       "      <th></th>\n",
       "      <th>longitude</th>\n",
       "      <th>latitude</th>\n",
       "      <th>bedrooms</th>\n",
       "      <th>bathrooms</th>\n",
       "      <th>sqrt_ft</th>\n",
       "    </tr>\n",
       "  </thead>\n",
       "  <tbody>\n",
       "    <tr>\n",
       "      <th>4</th>\n",
       "      <td>-110.813768</td>\n",
       "      <td>32.285162</td>\n",
       "      <td>4</td>\n",
       "      <td>6.0</td>\n",
       "      <td>6396.0</td>\n",
       "    </tr>\n",
       "    <tr>\n",
       "      <th>5</th>\n",
       "      <td>-110.910593</td>\n",
       "      <td>32.339090</td>\n",
       "      <td>3</td>\n",
       "      <td>4.0</td>\n",
       "      <td>6842.0</td>\n",
       "    </tr>\n",
       "    <tr>\n",
       "      <th>7</th>\n",
       "      <td>-110.861002</td>\n",
       "      <td>32.331603</td>\n",
       "      <td>6</td>\n",
       "      <td>8.0</td>\n",
       "      <td>8921.0</td>\n",
       "    </tr>\n",
       "    <tr>\n",
       "      <th>8</th>\n",
       "      <td>-110.912156</td>\n",
       "      <td>32.343601</td>\n",
       "      <td>5</td>\n",
       "      <td>7.0</td>\n",
       "      <td>5238.0</td>\n",
       "    </tr>\n",
       "    <tr>\n",
       "      <th>9</th>\n",
       "      <td>-110.837950</td>\n",
       "      <td>32.327575</td>\n",
       "      <td>5</td>\n",
       "      <td>6.0</td>\n",
       "      <td>6480.0</td>\n",
       "    </tr>\n",
       "  </tbody>\n",
       "</table>\n",
       "</div>"
      ],
      "text/plain": [
       "    longitude   latitude  bedrooms  bathrooms  sqrt_ft\n",
       "4 -110.813768  32.285162         4        6.0   6396.0\n",
       "5 -110.910593  32.339090         3        4.0   6842.0\n",
       "7 -110.861002  32.331603         6        8.0   8921.0\n",
       "8 -110.912156  32.343601         5        7.0   5238.0\n",
       "9 -110.837950  32.327575         5        6.0   6480.0"
      ]
     },
     "execution_count": 24,
     "metadata": {},
     "output_type": "execute_result"
    }
   ],
   "source": [
    "# selecting the X and y values\n",
    "cols = ['longitude','latitude','bedrooms','bathrooms','sqrt_ft']\n",
    "sel_feat = ncdata2[cols]\n",
    "sel_price = ncdata2['sold_price']\n",
    "print(sel_feat.shape)\n",
    "\n",
    "##Actual selected features\n",
    "sel_feat[0:5]"
   ]
  },
  {
   "cell_type": "code",
   "execution_count": 25,
   "metadata": {},
   "outputs": [
    {
     "name": "stdout",
     "output_type": "stream",
     "text": [
      "(3783, 5)\n"
     ]
    },
    {
     "data": {
      "text/plain": [
       "4    0.913218\n",
       "5    0.864662\n",
       "7    0.639098\n",
       "8    1.000000\n",
       "9    0.864662\n",
       "Name: sold_price, dtype: float64"
      ]
     },
     "execution_count": 25,
     "metadata": {},
     "output_type": "execute_result"
    }
   ],
   "source": [
    "## Normalizing the selected features\n",
    "norm_feat =normalize(sel_feat)\n",
    "print(norm_feat.shape)\n",
    "norm_feat[0:5]\n",
    "\n",
    "norm_price = normalize(sel_price)\n",
    "norm_price[0:5]"
   ]
  },
  {
   "cell_type": "code",
   "execution_count": 26,
   "metadata": {},
   "outputs": [
    {
     "name": "stdout",
     "output_type": "stream",
     "text": [
      "(3783, 5)\n"
     ]
    },
    {
     "data": {
      "text/html": [
       "<div>\n",
       "<style scoped>\n",
       "    .dataframe tbody tr th:only-of-type {\n",
       "        vertical-align: middle;\n",
       "    }\n",
       "\n",
       "    .dataframe tbody tr th {\n",
       "        vertical-align: top;\n",
       "    }\n",
       "\n",
       "    .dataframe thead th {\n",
       "        text-align: right;\n",
       "    }\n",
       "</style>\n",
       "<table border=\"1\" class=\"dataframe\">\n",
       "  <thead>\n",
       "    <tr style=\"text-align: right;\">\n",
       "      <th></th>\n",
       "      <th>longitude</th>\n",
       "      <th>latitude</th>\n",
       "      <th>bedrooms</th>\n",
       "      <th>bathrooms</th>\n",
       "      <th>sqrt_ft</th>\n",
       "    </tr>\n",
       "  </thead>\n",
       "  <tbody>\n",
       "    <tr>\n",
       "      <th>4</th>\n",
       "      <td>-110.813768</td>\n",
       "      <td>32.285162</td>\n",
       "      <td>4.0</td>\n",
       "      <td>6.0</td>\n",
       "      <td>6396.0</td>\n",
       "    </tr>\n",
       "    <tr>\n",
       "      <th>5</th>\n",
       "      <td>-110.910593</td>\n",
       "      <td>32.339090</td>\n",
       "      <td>3.0</td>\n",
       "      <td>4.0</td>\n",
       "      <td>6842.0</td>\n",
       "    </tr>\n",
       "    <tr>\n",
       "      <th>7</th>\n",
       "      <td>-110.861002</td>\n",
       "      <td>32.331603</td>\n",
       "      <td>6.0</td>\n",
       "      <td>8.0</td>\n",
       "      <td>8921.0</td>\n",
       "    </tr>\n",
       "    <tr>\n",
       "      <th>8</th>\n",
       "      <td>-110.912156</td>\n",
       "      <td>32.343601</td>\n",
       "      <td>5.0</td>\n",
       "      <td>7.0</td>\n",
       "      <td>5238.0</td>\n",
       "    </tr>\n",
       "    <tr>\n",
       "      <th>9</th>\n",
       "      <td>-110.837950</td>\n",
       "      <td>32.327575</td>\n",
       "      <td>5.0</td>\n",
       "      <td>6.0</td>\n",
       "      <td>6480.0</td>\n",
       "    </tr>\n",
       "  </tbody>\n",
       "</table>\n",
       "</div>"
      ],
      "text/plain": [
       "    longitude   latitude  bedrooms  bathrooms  sqrt_ft\n",
       "4 -110.813768  32.285162       4.0        6.0   6396.0\n",
       "5 -110.910593  32.339090       3.0        4.0   6842.0\n",
       "7 -110.861002  32.331603       6.0        8.0   8921.0\n",
       "8 -110.912156  32.343601       5.0        7.0   5238.0\n",
       "9 -110.837950  32.327575       5.0        6.0   6480.0"
      ]
     },
     "execution_count": 26,
     "metadata": {},
     "output_type": "execute_result"
    }
   ],
   "source": [
    "# Reverting the normalized features\n",
    "revrt_feat = revertnormalize(norm_feat,sel_feat)\n",
    "print(revrt_feat.shape)\n",
    "# revrt_feat.sample(5)\n",
    "revrt_feat[0:5]"
   ]
  },
  {
   "cell_type": "code",
   "execution_count": 27,
   "metadata": {},
   "outputs": [
    {
     "name": "stdout",
     "output_type": "stream",
     "text": [
      "[0 0 0 ... 0 0 0]\n",
      "[0.33333333 0.22222222 0.55555556 0.44444444 0.44444444 0.44444444\n",
      " 0.33333333 0.22222222 0.22222222 0.22222222]\n"
     ]
    }
   ],
   "source": [
    "colls = ['longitude','latitude','bedrooms','bathrooms','sqrt_ft']\n",
    "features = norm_feat[colls].to_numpy()\n",
    "prices = norm_price.to_numpy(dtype='int64')\n",
    "# prices2 = ncdata1[\"sold_price\"]\n",
    "print(prices)\n",
    "print(features[0:10,2])"
   ]
  },
  {
   "cell_type": "code",
   "execution_count": 28,
   "metadata": {},
   "outputs": [
    {
     "name": "stdout",
     "output_type": "stream",
     "text": [
      "(2649, 5) (1134, 5) (2649,) (1134,)\n"
     ]
    }
   ],
   "source": [
    "# without using sklearn function\n",
    "import math \n",
    "nn = math.ceil(len(features)*0.7)\n",
    "\n",
    "X_train = features[:nn,:]\n",
    "X_test= features[nn:,:]\n",
    "y_train = prices[:nn]\n",
    "y_test = prices[nn:]\n",
    "\n",
    "print(X_train.shape, X_test.shape, y_train.shape, y_test.shape)"
   ]
  },
  {
   "cell_type": "code",
   "execution_count": 29,
   "metadata": {},
   "outputs": [],
   "source": [
    "class KNNRegressor():\n",
    "    def fit(self,X,y):\n",
    "        self.X = X\n",
    "        self.y = y\n",
    "        \n",
    "    def predict(self,X, K, epsilon=1e-03):\n",
    "        N = len(X)\n",
    "        y_hat = np.zeros(N)\n",
    "        \n",
    "        for i in range(N):\n",
    "            dist2 = np.sum((self.X-X[i])**2,axis=1)\n",
    "            idxt = np.argsort(dist2)[:K]\n",
    "            gamma_k = 1/(np.sqrt(dist2[idxt]) + epsilon)\n",
    "            y_hat[i] = gamma_k.dot(self.y[idxt])/gamma_k.sum() #traget value with the height weight\n",
    "             \n",
    "        return y_hat"
   ]
  },
  {
   "cell_type": "code",
   "execution_count": 30,
   "metadata": {},
   "outputs": [],
   "source": [
    "knnreg = KNNRegressor()"
   ]
  },
  {
   "cell_type": "code",
   "execution_count": 31,
   "metadata": {},
   "outputs": [],
   "source": [
    "knnreg.fit(X_train,y_train)"
   ]
  },
  {
   "cell_type": "code",
   "execution_count": 32,
   "metadata": {},
   "outputs": [],
   "source": [
    "y_hat = knnreg.predict(X_test,100, epsilon=1e-3)"
   ]
  },
  {
   "cell_type": "code",
   "execution_count": 33,
   "metadata": {},
   "outputs": [],
   "source": [
    "def accuracy(y,y_hat):\n",
    "    return np.mean(y == y_hat)"
   ]
  },
  {
   "cell_type": "code",
   "execution_count": 34,
   "metadata": {},
   "outputs": [
    {
     "data": {
      "text/plain": [
       "0.9982363315696648"
      ]
     },
     "execution_count": 34,
     "metadata": {},
     "output_type": "execute_result"
    }
   ],
   "source": [
    "accuracy(y_test,y_hat)"
   ]
  },
  {
   "cell_type": "markdown",
   "metadata": {},
   "source": [
    "## Single Home predictor"
   ]
  },
  {
   "cell_type": "code",
   "execution_count": 35,
   "metadata": {},
   "outputs": [
    {
     "name": "stdout",
     "output_type": "stream",
     "text": [
      "-111.06449135902294 32.464260544113415\n",
      "[-111.06449135902294, 32.464260544113415, 3.0, 1.0, 2400.0]\n",
      "Predicted normalized price:  0.0\n",
      "Estimated Price:  375000.0\n"
     ]
    }
   ],
   "source": [
    "print(mlon,mlat)\n",
    "\n",
    "bedrms= 3.0\n",
    "bathrooms= 1.0\n",
    "sqrft=2400.0\n",
    "\n",
    "# c_data =np.array([[mlon,mlat,bedrms,bathrooms,sqrft]])\n",
    "cdata =[mlon,mlat,bedrms,bathrooms,sqrft]\n",
    "print(cdata)\n",
    "\n",
    "# Normalize entire data frame except long and latitude columns: Panda\n",
    "def normalize1(dataset,orgdata):\n",
    "    dataNorm=((dataset-orgdata.min())/(orgdata.max()-orgdata.min()))\n",
    "    return dataNorm\n",
    "\n",
    "cdatanorm = normalize1(cdata,sel_feat)\n",
    "\n",
    "val = knnreg.predict(cdatanorm,100, epsilon=1e-3)\n",
    "print(\"Predicted normalized price: \",val[0])\n",
    "\n",
    "val1 = np.mean(val)\n",
    "prce = revertnormalize(val[0],sel_price)\n",
    "print(\"Estimated Price: \",prce)"
   ]
  },
  {
   "cell_type": "code",
   "execution_count": null,
   "metadata": {},
   "outputs": [],
   "source": []
  },
  {
   "cell_type": "code",
   "execution_count": null,
   "metadata": {},
   "outputs": [],
   "source": []
  }
 ],
 "metadata": {
  "kernelspec": {
   "display_name": "Python 3",
   "language": "python",
   "name": "python3"
  },
  "language_info": {
   "codemirror_mode": {
    "name": "ipython",
    "version": 3
   },
   "file_extension": ".py",
   "mimetype": "text/x-python",
   "name": "python",
   "nbconvert_exporter": "python",
   "pygments_lexer": "ipython3",
   "version": "3.8.5"
  }
 },
 "nbformat": 4,
 "nbformat_minor": 4
}
