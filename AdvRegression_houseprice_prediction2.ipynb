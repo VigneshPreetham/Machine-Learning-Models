{
 "cells": [
  {
   "cell_type": "markdown",
   "metadata": {},
   "source": [
    "######  <span style=\"font-family: Arial; font-weight:bold;font-size:1.5em;color:#02075d\">Advanced Regression techniques: House Price Prediction\n",
    "\n",
    "**Lasso Regression, Gradient Boosting Regression, Random Forest Regression, ElasticNet Regression, and XGBoost Regression**"
   ]
  },
  {
   "cell_type": "markdown",
   "metadata": {},
   "source": [
    "**Import Libraries**"
   ]
  },
  {
   "cell_type": "code",
   "execution_count": 1,
   "metadata": {},
   "outputs": [],
   "source": [
    "import numpy as np \n",
    "import pandas as pd\n",
    "\n",
    "import matplotlib.pyplot as plt\n",
    "import seaborn as sns\n",
    "\n",
    "import warnings\n",
    "warnings.filterwarnings(\"ignore\")\n",
    "\n",
    "from sklearn.linear_model import LinearRegression\n",
    "from sklearn.metrics import mean_squared_error, mean_absolute_error, r2_score, mean_squared_error, explained_variance_score\n",
    "from sklearn.linear_model import ElasticNet, Lasso,  BayesianRidge\n",
    "from sklearn.ensemble import RandomForestRegressor,  GradientBoostingRegressor\n",
    "from sklearn.base import BaseEstimator, TransformerMixin, RegressorMixin, clone\n",
    "import xgboost as xgb\n",
    "from sklearn.model_selection import GridSearchCV\n",
    "from sklearn.metrics import accuracy_score,confusion_matrix"
   ]
  },
  {
   "cell_type": "markdown",
   "metadata": {},
   "source": [
    "######  <span style=\"font-family: Arial; font-weight:bold;font-size:1.0em;color:#4a3dbb\">Import train and test Datasets"
   ]
  },
  {
   "cell_type": "code",
   "execution_count": 2,
   "metadata": {},
   "outputs": [],
   "source": [
    "# train_df = pd.read_csv('/Users/preethamvignesh/Downloads/check/Housing/train.csv')\n",
    "# test_df = pd.read_csv('/Users/preethamvignesh/Downloads/check/Housing/test.csv')\n",
    "\n",
    "train_df = pd.read_csv('/home/jayanthikishore/Desktop/Analysis/Work/ML_EIT/Data/House_price/train.csv')\n",
    "test_df = pd.read_csv('/home/jayanthikishore/Desktop/Analysis/Work/ML_EIT/Data/House_price/test.csv')"
   ]
  },
  {
   "cell_type": "markdown",
   "metadata": {},
   "source": [
    "######  <span style=\"font-family: Arial; font-weight:bold;font-size:1.0em;color:#4a3dbb\">Display DataFrame"
   ]
  },
  {
   "cell_type": "code",
   "execution_count": 3,
   "metadata": {},
   "outputs": [
    {
     "data": {
      "text/html": [
       "<div>\n",
       "<style scoped>\n",
       "    .dataframe tbody tr th:only-of-type {\n",
       "        vertical-align: middle;\n",
       "    }\n",
       "\n",
       "    .dataframe tbody tr th {\n",
       "        vertical-align: top;\n",
       "    }\n",
       "\n",
       "    .dataframe thead th {\n",
       "        text-align: right;\n",
       "    }\n",
       "</style>\n",
       "<table border=\"1\" class=\"dataframe\">\n",
       "  <thead>\n",
       "    <tr style=\"text-align: right;\">\n",
       "      <th></th>\n",
       "      <th>Id</th>\n",
       "      <th>MSSubClass</th>\n",
       "      <th>MSZoning</th>\n",
       "      <th>LotFrontage</th>\n",
       "      <th>LotArea</th>\n",
       "      <th>Street</th>\n",
       "      <th>Alley</th>\n",
       "      <th>LotShape</th>\n",
       "      <th>LandContour</th>\n",
       "      <th>Utilities</th>\n",
       "      <th>...</th>\n",
       "      <th>PoolArea</th>\n",
       "      <th>PoolQC</th>\n",
       "      <th>Fence</th>\n",
       "      <th>MiscFeature</th>\n",
       "      <th>MiscVal</th>\n",
       "      <th>MoSold</th>\n",
       "      <th>YrSold</th>\n",
       "      <th>SaleType</th>\n",
       "      <th>SaleCondition</th>\n",
       "      <th>SalePrice</th>\n",
       "    </tr>\n",
       "  </thead>\n",
       "  <tbody>\n",
       "    <tr>\n",
       "      <th>0</th>\n",
       "      <td>1</td>\n",
       "      <td>60</td>\n",
       "      <td>RL</td>\n",
       "      <td>65.0</td>\n",
       "      <td>8450</td>\n",
       "      <td>Pave</td>\n",
       "      <td>NaN</td>\n",
       "      <td>Reg</td>\n",
       "      <td>Lvl</td>\n",
       "      <td>AllPub</td>\n",
       "      <td>...</td>\n",
       "      <td>0</td>\n",
       "      <td>NaN</td>\n",
       "      <td>NaN</td>\n",
       "      <td>NaN</td>\n",
       "      <td>0</td>\n",
       "      <td>2</td>\n",
       "      <td>2008</td>\n",
       "      <td>WD</td>\n",
       "      <td>Normal</td>\n",
       "      <td>208500</td>\n",
       "    </tr>\n",
       "    <tr>\n",
       "      <th>1</th>\n",
       "      <td>2</td>\n",
       "      <td>20</td>\n",
       "      <td>RL</td>\n",
       "      <td>80.0</td>\n",
       "      <td>9600</td>\n",
       "      <td>Pave</td>\n",
       "      <td>NaN</td>\n",
       "      <td>Reg</td>\n",
       "      <td>Lvl</td>\n",
       "      <td>AllPub</td>\n",
       "      <td>...</td>\n",
       "      <td>0</td>\n",
       "      <td>NaN</td>\n",
       "      <td>NaN</td>\n",
       "      <td>NaN</td>\n",
       "      <td>0</td>\n",
       "      <td>5</td>\n",
       "      <td>2007</td>\n",
       "      <td>WD</td>\n",
       "      <td>Normal</td>\n",
       "      <td>181500</td>\n",
       "    </tr>\n",
       "    <tr>\n",
       "      <th>2</th>\n",
       "      <td>3</td>\n",
       "      <td>60</td>\n",
       "      <td>RL</td>\n",
       "      <td>68.0</td>\n",
       "      <td>11250</td>\n",
       "      <td>Pave</td>\n",
       "      <td>NaN</td>\n",
       "      <td>IR1</td>\n",
       "      <td>Lvl</td>\n",
       "      <td>AllPub</td>\n",
       "      <td>...</td>\n",
       "      <td>0</td>\n",
       "      <td>NaN</td>\n",
       "      <td>NaN</td>\n",
       "      <td>NaN</td>\n",
       "      <td>0</td>\n",
       "      <td>9</td>\n",
       "      <td>2008</td>\n",
       "      <td>WD</td>\n",
       "      <td>Normal</td>\n",
       "      <td>223500</td>\n",
       "    </tr>\n",
       "    <tr>\n",
       "      <th>3</th>\n",
       "      <td>4</td>\n",
       "      <td>70</td>\n",
       "      <td>RL</td>\n",
       "      <td>60.0</td>\n",
       "      <td>9550</td>\n",
       "      <td>Pave</td>\n",
       "      <td>NaN</td>\n",
       "      <td>IR1</td>\n",
       "      <td>Lvl</td>\n",
       "      <td>AllPub</td>\n",
       "      <td>...</td>\n",
       "      <td>0</td>\n",
       "      <td>NaN</td>\n",
       "      <td>NaN</td>\n",
       "      <td>NaN</td>\n",
       "      <td>0</td>\n",
       "      <td>2</td>\n",
       "      <td>2006</td>\n",
       "      <td>WD</td>\n",
       "      <td>Abnorml</td>\n",
       "      <td>140000</td>\n",
       "    </tr>\n",
       "    <tr>\n",
       "      <th>4</th>\n",
       "      <td>5</td>\n",
       "      <td>60</td>\n",
       "      <td>RL</td>\n",
       "      <td>84.0</td>\n",
       "      <td>14260</td>\n",
       "      <td>Pave</td>\n",
       "      <td>NaN</td>\n",
       "      <td>IR1</td>\n",
       "      <td>Lvl</td>\n",
       "      <td>AllPub</td>\n",
       "      <td>...</td>\n",
       "      <td>0</td>\n",
       "      <td>NaN</td>\n",
       "      <td>NaN</td>\n",
       "      <td>NaN</td>\n",
       "      <td>0</td>\n",
       "      <td>12</td>\n",
       "      <td>2008</td>\n",
       "      <td>WD</td>\n",
       "      <td>Normal</td>\n",
       "      <td>250000</td>\n",
       "    </tr>\n",
       "    <tr>\n",
       "      <th>...</th>\n",
       "      <td>...</td>\n",
       "      <td>...</td>\n",
       "      <td>...</td>\n",
       "      <td>...</td>\n",
       "      <td>...</td>\n",
       "      <td>...</td>\n",
       "      <td>...</td>\n",
       "      <td>...</td>\n",
       "      <td>...</td>\n",
       "      <td>...</td>\n",
       "      <td>...</td>\n",
       "      <td>...</td>\n",
       "      <td>...</td>\n",
       "      <td>...</td>\n",
       "      <td>...</td>\n",
       "      <td>...</td>\n",
       "      <td>...</td>\n",
       "      <td>...</td>\n",
       "      <td>...</td>\n",
       "      <td>...</td>\n",
       "      <td>...</td>\n",
       "    </tr>\n",
       "    <tr>\n",
       "      <th>1455</th>\n",
       "      <td>1456</td>\n",
       "      <td>60</td>\n",
       "      <td>RL</td>\n",
       "      <td>62.0</td>\n",
       "      <td>7917</td>\n",
       "      <td>Pave</td>\n",
       "      <td>NaN</td>\n",
       "      <td>Reg</td>\n",
       "      <td>Lvl</td>\n",
       "      <td>AllPub</td>\n",
       "      <td>...</td>\n",
       "      <td>0</td>\n",
       "      <td>NaN</td>\n",
       "      <td>NaN</td>\n",
       "      <td>NaN</td>\n",
       "      <td>0</td>\n",
       "      <td>8</td>\n",
       "      <td>2007</td>\n",
       "      <td>WD</td>\n",
       "      <td>Normal</td>\n",
       "      <td>175000</td>\n",
       "    </tr>\n",
       "    <tr>\n",
       "      <th>1456</th>\n",
       "      <td>1457</td>\n",
       "      <td>20</td>\n",
       "      <td>RL</td>\n",
       "      <td>85.0</td>\n",
       "      <td>13175</td>\n",
       "      <td>Pave</td>\n",
       "      <td>NaN</td>\n",
       "      <td>Reg</td>\n",
       "      <td>Lvl</td>\n",
       "      <td>AllPub</td>\n",
       "      <td>...</td>\n",
       "      <td>0</td>\n",
       "      <td>NaN</td>\n",
       "      <td>MnPrv</td>\n",
       "      <td>NaN</td>\n",
       "      <td>0</td>\n",
       "      <td>2</td>\n",
       "      <td>2010</td>\n",
       "      <td>WD</td>\n",
       "      <td>Normal</td>\n",
       "      <td>210000</td>\n",
       "    </tr>\n",
       "    <tr>\n",
       "      <th>1457</th>\n",
       "      <td>1458</td>\n",
       "      <td>70</td>\n",
       "      <td>RL</td>\n",
       "      <td>66.0</td>\n",
       "      <td>9042</td>\n",
       "      <td>Pave</td>\n",
       "      <td>NaN</td>\n",
       "      <td>Reg</td>\n",
       "      <td>Lvl</td>\n",
       "      <td>AllPub</td>\n",
       "      <td>...</td>\n",
       "      <td>0</td>\n",
       "      <td>NaN</td>\n",
       "      <td>GdPrv</td>\n",
       "      <td>Shed</td>\n",
       "      <td>2500</td>\n",
       "      <td>5</td>\n",
       "      <td>2010</td>\n",
       "      <td>WD</td>\n",
       "      <td>Normal</td>\n",
       "      <td>266500</td>\n",
       "    </tr>\n",
       "    <tr>\n",
       "      <th>1458</th>\n",
       "      <td>1459</td>\n",
       "      <td>20</td>\n",
       "      <td>RL</td>\n",
       "      <td>68.0</td>\n",
       "      <td>9717</td>\n",
       "      <td>Pave</td>\n",
       "      <td>NaN</td>\n",
       "      <td>Reg</td>\n",
       "      <td>Lvl</td>\n",
       "      <td>AllPub</td>\n",
       "      <td>...</td>\n",
       "      <td>0</td>\n",
       "      <td>NaN</td>\n",
       "      <td>NaN</td>\n",
       "      <td>NaN</td>\n",
       "      <td>0</td>\n",
       "      <td>4</td>\n",
       "      <td>2010</td>\n",
       "      <td>WD</td>\n",
       "      <td>Normal</td>\n",
       "      <td>142125</td>\n",
       "    </tr>\n",
       "    <tr>\n",
       "      <th>1459</th>\n",
       "      <td>1460</td>\n",
       "      <td>20</td>\n",
       "      <td>RL</td>\n",
       "      <td>75.0</td>\n",
       "      <td>9937</td>\n",
       "      <td>Pave</td>\n",
       "      <td>NaN</td>\n",
       "      <td>Reg</td>\n",
       "      <td>Lvl</td>\n",
       "      <td>AllPub</td>\n",
       "      <td>...</td>\n",
       "      <td>0</td>\n",
       "      <td>NaN</td>\n",
       "      <td>NaN</td>\n",
       "      <td>NaN</td>\n",
       "      <td>0</td>\n",
       "      <td>6</td>\n",
       "      <td>2008</td>\n",
       "      <td>WD</td>\n",
       "      <td>Normal</td>\n",
       "      <td>147500</td>\n",
       "    </tr>\n",
       "  </tbody>\n",
       "</table>\n",
       "<p>1460 rows × 81 columns</p>\n",
       "</div>"
      ],
      "text/plain": [
       "        Id  MSSubClass MSZoning  LotFrontage  LotArea Street Alley LotShape  \\\n",
       "0        1          60       RL         65.0     8450   Pave   NaN      Reg   \n",
       "1        2          20       RL         80.0     9600   Pave   NaN      Reg   \n",
       "2        3          60       RL         68.0    11250   Pave   NaN      IR1   \n",
       "3        4          70       RL         60.0     9550   Pave   NaN      IR1   \n",
       "4        5          60       RL         84.0    14260   Pave   NaN      IR1   \n",
       "...    ...         ...      ...          ...      ...    ...   ...      ...   \n",
       "1455  1456          60       RL         62.0     7917   Pave   NaN      Reg   \n",
       "1456  1457          20       RL         85.0    13175   Pave   NaN      Reg   \n",
       "1457  1458          70       RL         66.0     9042   Pave   NaN      Reg   \n",
       "1458  1459          20       RL         68.0     9717   Pave   NaN      Reg   \n",
       "1459  1460          20       RL         75.0     9937   Pave   NaN      Reg   \n",
       "\n",
       "     LandContour Utilities  ... PoolArea PoolQC  Fence MiscFeature MiscVal  \\\n",
       "0            Lvl    AllPub  ...        0    NaN    NaN         NaN       0   \n",
       "1            Lvl    AllPub  ...        0    NaN    NaN         NaN       0   \n",
       "2            Lvl    AllPub  ...        0    NaN    NaN         NaN       0   \n",
       "3            Lvl    AllPub  ...        0    NaN    NaN         NaN       0   \n",
       "4            Lvl    AllPub  ...        0    NaN    NaN         NaN       0   \n",
       "...          ...       ...  ...      ...    ...    ...         ...     ...   \n",
       "1455         Lvl    AllPub  ...        0    NaN    NaN         NaN       0   \n",
       "1456         Lvl    AllPub  ...        0    NaN  MnPrv         NaN       0   \n",
       "1457         Lvl    AllPub  ...        0    NaN  GdPrv        Shed    2500   \n",
       "1458         Lvl    AllPub  ...        0    NaN    NaN         NaN       0   \n",
       "1459         Lvl    AllPub  ...        0    NaN    NaN         NaN       0   \n",
       "\n",
       "     MoSold YrSold  SaleType  SaleCondition  SalePrice  \n",
       "0         2   2008        WD         Normal     208500  \n",
       "1         5   2007        WD         Normal     181500  \n",
       "2         9   2008        WD         Normal     223500  \n",
       "3         2   2006        WD        Abnorml     140000  \n",
       "4        12   2008        WD         Normal     250000  \n",
       "...     ...    ...       ...            ...        ...  \n",
       "1455      8   2007        WD         Normal     175000  \n",
       "1456      2   2010        WD         Normal     210000  \n",
       "1457      5   2010        WD         Normal     266500  \n",
       "1458      4   2010        WD         Normal     142125  \n",
       "1459      6   2008        WD         Normal     147500  \n",
       "\n",
       "[1460 rows x 81 columns]"
      ]
     },
     "execution_count": 3,
     "metadata": {},
     "output_type": "execute_result"
    }
   ],
   "source": [
    "train_df"
   ]
  },
  {
   "cell_type": "markdown",
   "metadata": {},
   "source": [
    "######  <span style=\"font-family: Arial; font-weight:bold;font-size:1.0em;color:#4a3dbb\">Data column details "
   ]
  },
  {
   "cell_type": "markdown",
   "metadata": {},
   "source": [
    "**PoolQC: pool quality**\n",
    "- Ex: excellent, Gd: good, TA: average/Typical, Fa: Fair, NA: no pool\n",
    "\n",
    "**Alley: Type of alley access to property**\n",
    "- Gravl: Gravel, Pave: Paaved, NA: No alley access\n",
    "\n",
    "**Fence: Fence quality**\n",
    "- GdPrv: Good privacy, MnPrv: Minimum privacy, GdWo: Good wood, MnWw: Minimum wood/wire, NA: No fence\n",
    "\n",
    "**MiscFeature: Miscellaneous feature**\n",
    "- Gar2: 2nd Garage, othr: other, Shed: shed, Tenc: Tennis Court, NA: none"
   ]
  },
  {
   "cell_type": "markdown",
   "metadata": {},
   "source": [
    "######  <span style=\"font-family: Arial; font-weight:bold;font-size:1.25em;color:#4a3dbb\">Feature Engineering: Total missing and paramater wise missing"
   ]
  },
  {
   "cell_type": "code",
   "execution_count": 4,
   "metadata": {},
   "outputs": [
    {
     "data": {
      "text/plain": [
       "'Total missing: '"
      ]
     },
     "metadata": {},
     "output_type": "display_data"
    },
    {
     "data": {
      "text/plain": [
       "6965"
      ]
     },
     "metadata": {},
     "output_type": "display_data"
    },
    {
     "data": {
      "text/html": [
       "<div>\n",
       "<style scoped>\n",
       "    .dataframe tbody tr th:only-of-type {\n",
       "        vertical-align: middle;\n",
       "    }\n",
       "\n",
       "    .dataframe tbody tr th {\n",
       "        vertical-align: top;\n",
       "    }\n",
       "\n",
       "    .dataframe thead th {\n",
       "        text-align: right;\n",
       "    }\n",
       "</style>\n",
       "<table border=\"1\" class=\"dataframe\">\n",
       "  <thead>\n",
       "    <tr style=\"text-align: right;\">\n",
       "      <th></th>\n",
       "      <th>0</th>\n",
       "      <th>1</th>\n",
       "      <th>2</th>\n",
       "      <th>3</th>\n",
       "      <th>4</th>\n",
       "      <th>5</th>\n",
       "      <th>6</th>\n",
       "      <th>7</th>\n",
       "      <th>8</th>\n",
       "      <th>9</th>\n",
       "      <th>...</th>\n",
       "      <th>71</th>\n",
       "      <th>72</th>\n",
       "      <th>73</th>\n",
       "      <th>74</th>\n",
       "      <th>75</th>\n",
       "      <th>76</th>\n",
       "      <th>77</th>\n",
       "      <th>78</th>\n",
       "      <th>79</th>\n",
       "      <th>80</th>\n",
       "    </tr>\n",
       "  </thead>\n",
       "  <tbody>\n",
       "    <tr>\n",
       "      <th>index</th>\n",
       "      <td>Id</td>\n",
       "      <td>MSSubClass</td>\n",
       "      <td>MSZoning</td>\n",
       "      <td>LotFrontage</td>\n",
       "      <td>LotArea</td>\n",
       "      <td>Street</td>\n",
       "      <td>Alley</td>\n",
       "      <td>LotShape</td>\n",
       "      <td>LandContour</td>\n",
       "      <td>Utilities</td>\n",
       "      <td>...</td>\n",
       "      <td>PoolArea</td>\n",
       "      <td>PoolQC</td>\n",
       "      <td>Fence</td>\n",
       "      <td>MiscFeature</td>\n",
       "      <td>MiscVal</td>\n",
       "      <td>MoSold</td>\n",
       "      <td>YrSold</td>\n",
       "      <td>SaleType</td>\n",
       "      <td>SaleCondition</td>\n",
       "      <td>SalePrice</td>\n",
       "    </tr>\n",
       "    <tr>\n",
       "      <th>0</th>\n",
       "      <td>0</td>\n",
       "      <td>0</td>\n",
       "      <td>0</td>\n",
       "      <td>259</td>\n",
       "      <td>0</td>\n",
       "      <td>0</td>\n",
       "      <td>1369</td>\n",
       "      <td>0</td>\n",
       "      <td>0</td>\n",
       "      <td>0</td>\n",
       "      <td>...</td>\n",
       "      <td>0</td>\n",
       "      <td>1453</td>\n",
       "      <td>1179</td>\n",
       "      <td>1406</td>\n",
       "      <td>0</td>\n",
       "      <td>0</td>\n",
       "      <td>0</td>\n",
       "      <td>0</td>\n",
       "      <td>0</td>\n",
       "      <td>0</td>\n",
       "    </tr>\n",
       "  </tbody>\n",
       "</table>\n",
       "<p>2 rows × 81 columns</p>\n",
       "</div>"
      ],
      "text/plain": [
       "       0           1         2            3        4       5      6   \\\n",
       "index  Id  MSSubClass  MSZoning  LotFrontage  LotArea  Street  Alley   \n",
       "0       0           0         0          259        0       0   1369   \n",
       "\n",
       "             7            8          9   ...        71      72     73  \\\n",
       "index  LotShape  LandContour  Utilities  ...  PoolArea  PoolQC  Fence   \n",
       "0             0            0          0  ...         0    1453   1179   \n",
       "\n",
       "                74       75      76      77        78             79  \\\n",
       "index  MiscFeature  MiscVal  MoSold  YrSold  SaleType  SaleCondition   \n",
       "0             1406        0       0       0         0              0   \n",
       "\n",
       "              80  \n",
       "index  SalePrice  \n",
       "0              0  \n",
       "\n",
       "[2 rows x 81 columns]"
      ]
     },
     "execution_count": 4,
     "metadata": {},
     "output_type": "execute_result"
    }
   ],
   "source": [
    "#Missing or null values in the train dataset\n",
    "train_missing = train_df.isnull().sum()\n",
    "#total missing sum\n",
    "display(\"Total missing: \", train_missing.sum())\n",
    "\n",
    "#each column/variable missing sum\n",
    "train_missing = train_missing.reset_index()\n",
    "train_missing.T"
   ]
  },
  {
   "cell_type": "markdown",
   "metadata": {},
   "source": [
    "######  <span style=\"font-family: Arial; font-weight:bold;font-size:1.0em;color:#4a3dbb\">Null values filling method: Aggregate fill method\n",
    "    \n",
    "- count will give how many are missing in the column, and divide then with total count,  we can find the possibilities of them."
   ]
  },
  {
   "cell_type": "code",
   "execution_count": 5,
   "metadata": {},
   "outputs": [
    {
     "data": {
      "text/plain": [
       "0"
      ]
     },
     "metadata": {},
     "output_type": "display_data"
    },
    {
     "data": {
      "text/plain": [
       "0"
      ]
     },
     "metadata": {},
     "output_type": "display_data"
    }
   ],
   "source": [
    "#NULL or missing values Filling method \n",
    "#Aggregate filling method\n",
    "\n",
    "# %run -i '/Users/preethamvignesh/Desktop/Work/ML_EIT/Github/filling_agg.py'\n",
    "%run -i '/home/jayanthikishore/Desktop/Analysis/Work/ML_EIT/Github/filling_agg.py'\n",
    "\n",
    "filling_agg(train_df)\n",
    "filling_agg(test_df)\n",
    "\n",
    "trn_fill = sum(train_df.isna().sum())\n",
    "tst_fill = sum(test_df.isna().sum())\n",
    "display(trn_fill, tst_fill)"
   ]
  },
  {
   "cell_type": "markdown",
   "metadata": {},
   "source": [
    "######  <span style=\"font-family: Arial; font-weight:bold;font-size:1.0em;color:#4a3dbb\">Numerical and Categorical columns in the dataframe"
   ]
  },
  {
   "cell_type": "code",
   "execution_count": 6,
   "metadata": {},
   "outputs": [
    {
     "data": {
      "text/plain": [
       "Index(['Id', 'MSSubClass', 'LotFrontage', 'LotArea', 'OverallQual',\n",
       "       'OverallCond', 'YearBuilt', 'YearRemodAdd', 'MasVnrArea', 'BsmtFinSF1',\n",
       "       'BsmtFinSF2', 'BsmtUnfSF', 'TotalBsmtSF', '1stFlrSF', '2ndFlrSF',\n",
       "       'LowQualFinSF', 'GrLivArea', 'BsmtFullBath', 'BsmtHalfBath', 'FullBath',\n",
       "       'HalfBath', 'BedroomAbvGr', 'KitchenAbvGr', 'TotRmsAbvGrd',\n",
       "       'Fireplaces', 'GarageYrBlt', 'GarageCars', 'GarageArea', 'WoodDeckSF',\n",
       "       'OpenPorchSF', 'EnclosedPorch', '3SsnPorch', 'ScreenPorch', 'PoolArea',\n",
       "       'MiscVal', 'MoSold', 'YrSold', 'SalePrice'],\n",
       "      dtype='object')"
      ]
     },
     "metadata": {},
     "output_type": "display_data"
    },
    {
     "data": {
      "text/plain": [
       "38"
      ]
     },
     "metadata": {},
     "output_type": "display_data"
    },
    {
     "data": {
      "text/plain": [
       "Index(['MSZoning', 'Street', 'Alley', 'LotShape', 'LandContour', 'Utilities',\n",
       "       'LotConfig', 'LandSlope', 'Neighborhood', 'Condition1', 'Condition2',\n",
       "       'BldgType', 'HouseStyle', 'RoofStyle', 'RoofMatl', 'Exterior1st',\n",
       "       'Exterior2nd', 'MasVnrType', 'ExterQual', 'ExterCond', 'Foundation',\n",
       "       'BsmtQual', 'BsmtCond', 'BsmtExposure', 'BsmtFinType1', 'BsmtFinType2',\n",
       "       'Heating', 'HeatingQC', 'CentralAir', 'Electrical', 'KitchenQual',\n",
       "       'Functional', 'FireplaceQu', 'GarageType', 'GarageFinish', 'GarageQual',\n",
       "       'GarageCond', 'PavedDrive', 'PoolQC', 'Fence', 'MiscFeature',\n",
       "       'SaleType', 'SaleCondition'],\n",
       "      dtype='object')"
      ]
     },
     "metadata": {},
     "output_type": "display_data"
    },
    {
     "data": {
      "text/plain": [
       "43"
      ]
     },
     "metadata": {},
     "output_type": "display_data"
    }
   ],
   "source": [
    "#Define numerical and categorical columns\n",
    "numerical_cols = []\n",
    "categorical_cols = []\n",
    "\n",
    "numerical_cols =  train_df.select_dtypes(exclude = ['object']).columns\n",
    "categorical_cols = test_df.select_dtypes(include = ['object']).columns\n",
    "\n",
    "display(numerical_cols, len(numerical_cols))\n",
    "display(categorical_cols, len(categorical_cols))"
   ]
  },
  {
   "cell_type": "markdown",
   "metadata": {},
   "source": [
    "######  <span style=\"font-family: Arial; font-weight:bold;font-size:1.25em;color:#4a3dbb\">Exploratory Data Analysis (EDA)"
   ]
  },
  {
   "cell_type": "code",
   "execution_count": 7,
   "metadata": {},
   "outputs": [
    {
     "data": {
      "text/plain": [
       "array(['2Story', '1Story', '1.5Fin', '1.5Unf', 'SFoyer', 'SLvl', '2.5Unf',\n",
       "       '2.5Fin'], dtype=object)"
      ]
     },
     "execution_count": 7,
     "metadata": {},
     "output_type": "execute_result"
    }
   ],
   "source": [
    "# Exploratory data analysis (EDA)\n",
    "train_df.HouseStyle.unique()"
   ]
  },
  {
   "cell_type": "code",
   "execution_count": 8,
   "metadata": {},
   "outputs": [
    {
     "data": {
      "text/plain": [
       "Text(0, 0.5, 'count')"
      ]
     },
     "execution_count": 8,
     "metadata": {},
     "output_type": "execute_result"
    },
    {
     "data": {
      "image/png": "[encoded data removed]",
      "text/plain": [
       "<Figure size 432x288 with 1 Axes>"
      ]
     },
     "metadata": {
      "needs_background": "light"
     },
     "output_type": "display_data"
    }
   ],
   "source": [
    "# check most common house (bedroom wise)\n",
    "train_df['BedroomAbvGr'].value_counts().plot(kind='bar')\n",
    "plt.title('number of bedrooms')\n",
    "plt.xlabel('number of Bedrooms')\n",
    "plt.ylabel('count')"
   ]
  },
  {
   "cell_type": "code",
   "execution_count": 9,
   "metadata": {},
   "outputs": [
    {
     "data": {
      "text/plain": [
       "Text(0, 0.5, 'count')"
      ]
     },
     "execution_count": 9,
     "metadata": {},
     "output_type": "execute_result"
    },
    {
     "data": {
      "image/png": "[encoded data removed]",
      "text/plain": [
       "<Figure size 432x288 with 1 Axes>"
      ]
     },
     "metadata": {
      "needs_background": "light"
     },
     "output_type": "display_data"
    }
   ],
   "source": [
    "# check most common house (bedroom wise)\n",
    "train_df['YrSold'].value_counts().plot(kind='bar')\n",
    "plt.title('Year Sold')\n",
    "plt.xlabel('Year')\n",
    "plt.ylabel('count')"
   ]
  },
  {
   "cell_type": "code",
   "execution_count": 10,
   "metadata": {},
   "outputs": [
    {
     "data": {
      "image/png": "[encoded data removed]",
      "text/plain": [
       "<Figure size 1080x518.4 with 3 Axes>"
      ]
     },
     "metadata": {
      "needs_background": "light"
     },
     "output_type": "display_data"
    }
   ],
   "source": [
    "from scipy import stats; from scipy.stats import zscore, norm, randint\n",
    "\n",
    "# %run -i '/Users/preethamvignesh/Desktop/Work/ML_EIT/Github/odp_plots.py'\n",
    "%run -i '/home/jayanthikishore/Desktop/Analysis/Work/ML_EIT/Github/odp_plots.py'\n",
    "# Outlier, distribution for 'duration' column\n",
    "Q3 = train_df['SalePrice'].quantile(0.75)\n",
    "Q1 = train_df['SalePrice'].quantile(0.25)\n",
    "IQR = Q3 - Q1\n",
    "\n",
    "# print('Duration column', '--'*45)\n",
    "# display(train_df.loc[(train_df['SalePrice'] < (Q1 - 1.5 * IQR)) | (train_df['SalePrice'] > (Q3 + 1.5 * IQR))].head())\n",
    "\n",
    "odp_plots(train_df, 'SalePrice')\n"
   ]
  },
  {
   "cell_type": "code",
   "execution_count": 11,
   "metadata": {},
   "outputs": [
    {
     "data": {
      "text/plain": [
       "(-1.25, 1.25, -1.25, 1.25)"
      ]
     },
     "execution_count": 11,
     "metadata": {},
     "output_type": "execute_result"
    },
    {
     "data": {
      "image/png": "[encoded data removed]",
      "text/plain": [
       "<Figure size 864x288 with 2 Axes>"
      ]
     },
     "metadata": {
      "needs_background": "light"
     },
     "output_type": "display_data"
    }
   ],
   "source": [
    "fig, axes = plt.subplots(1,2,figsize=(12,4))\n",
    "\n",
    "# sns.countplot(y='diagnosis', data=df, palette='Set2',ax=axes[0])\n",
    "sns.countplot(train_df['YrSold'],label=\"Count\",ax=axes[0])\n",
    "\n",
    "labels = ['2006', '2007','2008','2009','2010']\n",
    "size = train_df['YrSold'].value_counts()\n",
    "colors = ['lightgreen', 'orange','green','lightyellow','lightblue']\n",
    "explode = [0.08, 0,0,0,0]\n",
    "# plt.rcParams['figure.figsize'] = (7, 7)\n",
    "plt.pie(size, colors = colors, explode = explode, labels = labels, shadow = True, autopct = '%.2f%%')\n",
    "plt.title('Year sold (%)', fontsize = 20)\n",
    "plt.axis('off')"
   ]
  },
  {
   "cell_type": "code",
   "execution_count": 12,
   "metadata": {},
   "outputs": [
    {
     "data": {
      "image/png": "[encoded data removed]",
      "text/plain": [
       "<Figure size 432x288 with 1 Axes>"
      ]
     },
     "metadata": {
      "needs_background": "light"
     },
     "output_type": "display_data"
    }
   ],
   "source": [
    "sns.distplot(x = (train_df[\"SalePrice\"]))\n",
    "plt.show()"
   ]
  },
  {
   "cell_type": "code",
   "execution_count": 13,
   "metadata": {},
   "outputs": [],
   "source": [
    "# f, axes = plt.subplots(1, 2)\n",
    "# sns.distplot(x= train_df[\"SalePrice\"] , ax=axes[0])\n",
    "# sns.distplot(x= train_df[\"SalePrice\"] , ax=axes[1])"
   ]
  },
  {
   "cell_type": "markdown",
   "metadata": {},
   "source": [
    "######  <span style=\"font-family: Arial; font-weight:bold;font-size:1.0em;color:#4a3dbb\">Checking more 700K homes"
   ]
  },
  {
   "cell_type": "code",
   "execution_count": 14,
   "metadata": {},
   "outputs": [
    {
     "data": {
      "text/html": [
       "<div>\n",
       "<style scoped>\n",
       "    .dataframe tbody tr th:only-of-type {\n",
       "        vertical-align: middle;\n",
       "    }\n",
       "\n",
       "    .dataframe tbody tr th {\n",
       "        vertical-align: top;\n",
       "    }\n",
       "\n",
       "    .dataframe thead th {\n",
       "        text-align: right;\n",
       "    }\n",
       "</style>\n",
       "<table border=\"1\" class=\"dataframe\">\n",
       "  <thead>\n",
       "    <tr style=\"text-align: right;\">\n",
       "      <th></th>\n",
       "      <th>691</th>\n",
       "      <th>1182</th>\n",
       "    </tr>\n",
       "  </thead>\n",
       "  <tbody>\n",
       "    <tr>\n",
       "      <th>Id</th>\n",
       "      <td>692</td>\n",
       "      <td>1183</td>\n",
       "    </tr>\n",
       "    <tr>\n",
       "      <th>MSSubClass</th>\n",
       "      <td>60</td>\n",
       "      <td>60</td>\n",
       "    </tr>\n",
       "    <tr>\n",
       "      <th>MSZoning</th>\n",
       "      <td>RL</td>\n",
       "      <td>RL</td>\n",
       "    </tr>\n",
       "    <tr>\n",
       "      <th>LotFrontage</th>\n",
       "      <td>104</td>\n",
       "      <td>160</td>\n",
       "    </tr>\n",
       "    <tr>\n",
       "      <th>LotArea</th>\n",
       "      <td>21535</td>\n",
       "      <td>15623</td>\n",
       "    </tr>\n",
       "    <tr>\n",
       "      <th>...</th>\n",
       "      <td>...</td>\n",
       "      <td>...</td>\n",
       "    </tr>\n",
       "    <tr>\n",
       "      <th>MoSold</th>\n",
       "      <td>1</td>\n",
       "      <td>7</td>\n",
       "    </tr>\n",
       "    <tr>\n",
       "      <th>YrSold</th>\n",
       "      <td>2007</td>\n",
       "      <td>2007</td>\n",
       "    </tr>\n",
       "    <tr>\n",
       "      <th>SaleType</th>\n",
       "      <td>WD</td>\n",
       "      <td>WD</td>\n",
       "    </tr>\n",
       "    <tr>\n",
       "      <th>SaleCondition</th>\n",
       "      <td>Normal</td>\n",
       "      <td>Abnorml</td>\n",
       "    </tr>\n",
       "    <tr>\n",
       "      <th>SalePrice</th>\n",
       "      <td>755000</td>\n",
       "      <td>745000</td>\n",
       "    </tr>\n",
       "  </tbody>\n",
       "</table>\n",
       "<p>81 rows × 2 columns</p>\n",
       "</div>"
      ],
      "text/plain": [
       "                 691      1182\n",
       "Id                692     1183\n",
       "MSSubClass         60       60\n",
       "MSZoning           RL       RL\n",
       "LotFrontage       104      160\n",
       "LotArea         21535    15623\n",
       "...               ...      ...\n",
       "MoSold              1        7\n",
       "YrSold           2007     2007\n",
       "SaleType           WD       WD\n",
       "SaleCondition  Normal  Abnorml\n",
       "SalePrice      755000   745000\n",
       "\n",
       "[81 rows x 2 columns]"
      ]
     },
     "execution_count": 14,
     "metadata": {},
     "output_type": "execute_result"
    }
   ],
   "source": [
    "train_df[(train_df[\"SalePrice\"]> 700000)].T\n"
   ]
  },
  {
   "cell_type": "code",
   "execution_count": 15,
   "metadata": {},
   "outputs": [
    {
     "data": {
      "image/png": "[encoded data removed]",
      "text/plain": [
       "<Figure size 1080x720 with 2 Axes>"
      ]
     },
     "metadata": {
      "needs_background": "light"
     },
     "output_type": "display_data"
    }
   ],
   "source": [
    "#Categorical variable\n",
    "f, axes = plt.subplots(2, 1,figsize=(15, 10))\n",
    "sns.countplot(x = train_df[\"HouseStyle\"], ax=axes[0])\n",
    "sns.countplot(x = train_df[\"BsmtFinType1\"], ax=axes[1])\n",
    "fig.tight_layout(pad=3.0)"
   ]
  },
  {
   "cell_type": "code",
   "execution_count": 16,
   "metadata": {},
   "outputs": [
    {
     "data": {
      "image/png": "[encoded data removed]",
      "text/plain": [
       "<Figure size 1080x864 with 3 Axes>"
      ]
     },
     "metadata": {
      "needs_background": "light"
     },
     "output_type": "display_data"
    }
   ],
   "source": [
    "f, axes = plt.subplots(3, 1,figsize=(15, 12))\n",
    "\n",
    "chart1 = sns.boxplot(x = train_df[\"GarageType\"], y = train_df[\"SalePrice\"],ax=axes[0])\n",
    "chart2 = sns.boxplot(x = train_df[\"HouseStyle\"], y = train_df[\"SalePrice\"],ax=axes[1])\n",
    "chart3 = sns.boxplot(x = train_df[\"Neighborhood\"], y = train_df[\"SalePrice\"],ax=axes[2])\n",
    "chart3.set_xticklabels(chart3.get_xticklabels(), rotation=45, fontsize='x-large')\n",
    "None"
   ]
  },
  {
   "cell_type": "code",
   "execution_count": 17,
   "metadata": {},
   "outputs": [
    {
     "data": {
      "image/png": "[encoded data removed]",
      "text/plain": [
       "<Figure size 1080x864 with 3 Axes>"
      ]
     },
     "metadata": {
      "needs_background": "light"
     },
     "output_type": "display_data"
    }
   ],
   "source": [
    "f, axes = plt.subplots(3, 1,figsize=(15, 12))\n",
    "\n",
    "chart1 = sns.scatterplot(x = train_df[\"YearBuilt\"], y = train_df[\"SalePrice\"],ax=axes[0])\n",
    "chart2 = sns.scatterplot(x = train_df[\"TotalBsmtSF\"], y = train_df[\"SalePrice\"],ax=axes[1])\n",
    "chart3 = sns.scatterplot(x = train_df[\"Neighborhood\"], y = train_df[\"SalePrice\"],ax=axes[2])\n",
    "chart3.set_xticklabels(chart3.get_xticklabels(), rotation=45, fontsize='x-large')\n",
    "None"
   ]
  },
  {
   "cell_type": "code",
   "execution_count": 18,
   "metadata": {},
   "outputs": [
    {
     "name": "stdout",
     "output_type": "stream",
     "text": [
      "Year Built (min, max)   :  1872 2010\n",
      "Sale Price (min, max)   :  34900 755000\n"
     ]
    }
   ],
   "source": [
    "# checking the outliers\n",
    "print(\"Year Built (min, max)   : \",min(train_df[\"YearBuilt\"]),max(train_df[\"YearBuilt\"]))\n",
    "print(\"Sale Price (min, max)   : \",min(train_df[\"SalePrice\"]),max(train_df[\"SalePrice\"]))"
   ]
  },
  {
   "cell_type": "markdown",
   "metadata": {},
   "source": [
    "######  <span style=\"font-family: Arial; font-weight:bold;font-size:1.0em;color:#4a3dbb\">Correlation Matrix"
   ]
  },
  {
   "cell_type": "code",
   "execution_count": 19,
   "metadata": {},
   "outputs": [
    {
     "data": {
      "text/plain": [
       "<matplotlib.axes._subplots.AxesSubplot at 0x7f0bc47bad60>"
      ]
     },
     "execution_count": 19,
     "metadata": {},
     "output_type": "execute_result"
    },
    {
     "data": {
      "image/png": "[encoded data removed]",
      "text/plain": [
       "<Figure size 1152x792 with 2 Axes>"
      ]
     },
     "metadata": {
      "needs_background": "light"
     },
     "output_type": "display_data"
    }
   ],
   "source": [
    "from string import ascii_letters\n",
    "corr = train_df[numerical_cols].corr()\n",
    "# Generate a mask for the upper triangle\n",
    "mask = np.triu(np.ones_like(corr, dtype=bool))\n",
    "\n",
    "# Set up the matplotlib figure\n",
    "f, ax = plt.subplots(figsize=(16, 11))\n",
    "\n",
    "# Generate a custom diverging colormap\n",
    "# cmap = sns.diverging_palette(230, 20, as_cmap=True)\n",
    "\n",
    "# Draw the heatmap with the mask and correct aspect ratio\n",
    "sns.heatmap(corr, mask=mask, vmax=1.0, center=0,\n",
    "            square=True, linewidths=.5, cbar_kws={\"shrink\": .5}, annot=False, cmap=\"RdBu_r\")\n"
   ]
  },
  {
   "cell_type": "markdown",
   "metadata": {},
   "source": [
    "######  <span style=\"font-family: Arial; font-weight:bold;font-size:1.0em;color:#4a3dbb\">Strong correlation variables (GE 0.75 and LE -0.75)"
   ]
  },
  {
   "cell_type": "code",
   "execution_count": 20,
   "metadata": {},
   "outputs": [
    {
     "data": {
      "text/plain": [
       "YearBuilt    GarageYrBlt     0.750615\n",
       "OverallQual  SalePrice       0.790982\n",
       "TotalBsmtSF  1stFlrSF        0.819530\n",
       "GrLivArea    TotRmsAbvGrd    0.825489\n",
       "GarageCars   GarageArea      0.882475\n",
       "Id           Id                   NaN\n",
       "dtype: float64"
      ]
     },
     "execution_count": 20,
     "metadata": {},
     "output_type": "execute_result"
    }
   ],
   "source": [
    "#Here is the ><=0.75 correlation values\n",
    "def corr_maxvals(x: pd.DataFrame, bound: float):\n",
    "    xCorr = x.corr()\n",
    "    xFiltered = xCorr[((xCorr >= bound) | (xCorr <= -bound)) & (xCorr !=1.000)]\n",
    "    xFlattened = xFiltered.unstack().sort_values().drop_duplicates()\n",
    "    return xFlattened\n",
    "\n",
    "corr_maxvals(train_df[numerical_cols], .75)\n"
   ]
  },
  {
   "cell_type": "code",
   "execution_count": 21,
   "metadata": {},
   "outputs": [
    {
     "data": {
      "text/plain": [
       "(1460, 81)"
      ]
     },
     "metadata": {},
     "output_type": "display_data"
    },
    {
     "data": {
      "text/plain": [
       "(1459, 80)"
      ]
     },
     "metadata": {},
     "output_type": "display_data"
    }
   ],
   "source": [
    "display(train_df.shape,test_df.shape)"
   ]
  },
  {
   "cell_type": "code",
   "execution_count": 22,
   "metadata": {},
   "outputs": [
    {
     "data": {
      "text/plain": [
       "(2919, 80)"
      ]
     },
     "metadata": {},
     "output_type": "display_data"
    }
   ],
   "source": [
    "#concatinate train and test data, first drop the 'SalePrice' from train data\n",
    "# train.shape is (1460,81) and test.shape(1459,80)\n",
    "# so, test dat is equal to train set. Here I am going to concat and split the dataset\n",
    "from sklearn import preprocessing\n",
    "\n",
    "train_df1 = train_df.drop('SalePrice',axis=1)\n",
    "\n",
    "tot_data = pd.concat([train_df1,test_df])\n",
    "display(tot_data.shape)\n",
    "\n",
    "le = preprocessing.LabelEncoder()\n",
    "%run -i '/home/jayanthikishore/Desktop/Analysis/Work/ML_EIT/Github/categorical2numerical.py'\n",
    "categorical2numerical(tot_data)"
   ]
  },
  {
   "cell_type": "code",
   "execution_count": 23,
   "metadata": {},
   "outputs": [
    {
     "data": {
      "text/plain": [
       "(1460, 81)"
      ]
     },
     "metadata": {},
     "output_type": "display_data"
    },
    {
     "data": {
      "text/plain": [
       "(1459, 80)"
      ]
     },
     "metadata": {},
     "output_type": "display_data"
    }
   ],
   "source": [
    "display(train_df.shape,test_df.shape)"
   ]
  },
  {
   "cell_type": "code",
   "execution_count": 24,
   "metadata": {},
   "outputs": [
    {
     "data": {
      "text/html": [
       "<div>\n",
       "<style scoped>\n",
       "    .dataframe tbody tr th:only-of-type {\n",
       "        vertical-align: middle;\n",
       "    }\n",
       "\n",
       "    .dataframe tbody tr th {\n",
       "        vertical-align: top;\n",
       "    }\n",
       "\n",
       "    .dataframe thead th {\n",
       "        text-align: right;\n",
       "    }\n",
       "</style>\n",
       "<table border=\"1\" class=\"dataframe\">\n",
       "  <thead>\n",
       "    <tr style=\"text-align: right;\">\n",
       "      <th></th>\n",
       "      <th>Id</th>\n",
       "      <th>MSSubClass</th>\n",
       "      <th>MSZoning</th>\n",
       "      <th>LotFrontage</th>\n",
       "      <th>LotArea</th>\n",
       "      <th>Street</th>\n",
       "      <th>Alley</th>\n",
       "      <th>LotShape</th>\n",
       "      <th>LandContour</th>\n",
       "      <th>Utilities</th>\n",
       "      <th>...</th>\n",
       "      <th>PoolArea</th>\n",
       "      <th>PoolQC</th>\n",
       "      <th>Fence</th>\n",
       "      <th>MiscFeature</th>\n",
       "      <th>MiscVal</th>\n",
       "      <th>MoSold</th>\n",
       "      <th>YrSold</th>\n",
       "      <th>SaleType</th>\n",
       "      <th>SaleCondition</th>\n",
       "      <th>SalePrice</th>\n",
       "    </tr>\n",
       "  </thead>\n",
       "  <tbody>\n",
       "    <tr>\n",
       "      <th>0</th>\n",
       "      <td>1</td>\n",
       "      <td>60</td>\n",
       "      <td>3</td>\n",
       "      <td>65.0</td>\n",
       "      <td>8450</td>\n",
       "      <td>1</td>\n",
       "      <td>0</td>\n",
       "      <td>3</td>\n",
       "      <td>3</td>\n",
       "      <td>0</td>\n",
       "      <td>...</td>\n",
       "      <td>0</td>\n",
       "      <td>2</td>\n",
       "      <td>2</td>\n",
       "      <td>2</td>\n",
       "      <td>0</td>\n",
       "      <td>2</td>\n",
       "      <td>2008</td>\n",
       "      <td>8</td>\n",
       "      <td>4</td>\n",
       "      <td>208500</td>\n",
       "    </tr>\n",
       "    <tr>\n",
       "      <th>1</th>\n",
       "      <td>2</td>\n",
       "      <td>20</td>\n",
       "      <td>3</td>\n",
       "      <td>80.0</td>\n",
       "      <td>9600</td>\n",
       "      <td>1</td>\n",
       "      <td>0</td>\n",
       "      <td>3</td>\n",
       "      <td>3</td>\n",
       "      <td>0</td>\n",
       "      <td>...</td>\n",
       "      <td>0</td>\n",
       "      <td>2</td>\n",
       "      <td>2</td>\n",
       "      <td>2</td>\n",
       "      <td>0</td>\n",
       "      <td>5</td>\n",
       "      <td>2007</td>\n",
       "      <td>8</td>\n",
       "      <td>4</td>\n",
       "      <td>181500</td>\n",
       "    </tr>\n",
       "    <tr>\n",
       "      <th>2</th>\n",
       "      <td>3</td>\n",
       "      <td>60</td>\n",
       "      <td>3</td>\n",
       "      <td>68.0</td>\n",
       "      <td>11250</td>\n",
       "      <td>1</td>\n",
       "      <td>1</td>\n",
       "      <td>0</td>\n",
       "      <td>3</td>\n",
       "      <td>0</td>\n",
       "      <td>...</td>\n",
       "      <td>0</td>\n",
       "      <td>2</td>\n",
       "      <td>1</td>\n",
       "      <td>2</td>\n",
       "      <td>0</td>\n",
       "      <td>9</td>\n",
       "      <td>2008</td>\n",
       "      <td>8</td>\n",
       "      <td>4</td>\n",
       "      <td>223500</td>\n",
       "    </tr>\n",
       "    <tr>\n",
       "      <th>3</th>\n",
       "      <td>4</td>\n",
       "      <td>70</td>\n",
       "      <td>3</td>\n",
       "      <td>60.0</td>\n",
       "      <td>9550</td>\n",
       "      <td>1</td>\n",
       "      <td>0</td>\n",
       "      <td>0</td>\n",
       "      <td>3</td>\n",
       "      <td>0</td>\n",
       "      <td>...</td>\n",
       "      <td>0</td>\n",
       "      <td>2</td>\n",
       "      <td>0</td>\n",
       "      <td>2</td>\n",
       "      <td>0</td>\n",
       "      <td>2</td>\n",
       "      <td>2006</td>\n",
       "      <td>8</td>\n",
       "      <td>0</td>\n",
       "      <td>140000</td>\n",
       "    </tr>\n",
       "    <tr>\n",
       "      <th>4</th>\n",
       "      <td>5</td>\n",
       "      <td>60</td>\n",
       "      <td>3</td>\n",
       "      <td>84.0</td>\n",
       "      <td>14260</td>\n",
       "      <td>1</td>\n",
       "      <td>1</td>\n",
       "      <td>0</td>\n",
       "      <td>3</td>\n",
       "      <td>0</td>\n",
       "      <td>...</td>\n",
       "      <td>0</td>\n",
       "      <td>2</td>\n",
       "      <td>1</td>\n",
       "      <td>2</td>\n",
       "      <td>0</td>\n",
       "      <td>12</td>\n",
       "      <td>2008</td>\n",
       "      <td>8</td>\n",
       "      <td>4</td>\n",
       "      <td>250000</td>\n",
       "    </tr>\n",
       "    <tr>\n",
       "      <th>...</th>\n",
       "      <td>...</td>\n",
       "      <td>...</td>\n",
       "      <td>...</td>\n",
       "      <td>...</td>\n",
       "      <td>...</td>\n",
       "      <td>...</td>\n",
       "      <td>...</td>\n",
       "      <td>...</td>\n",
       "      <td>...</td>\n",
       "      <td>...</td>\n",
       "      <td>...</td>\n",
       "      <td>...</td>\n",
       "      <td>...</td>\n",
       "      <td>...</td>\n",
       "      <td>...</td>\n",
       "      <td>...</td>\n",
       "      <td>...</td>\n",
       "      <td>...</td>\n",
       "      <td>...</td>\n",
       "      <td>...</td>\n",
       "      <td>...</td>\n",
       "    </tr>\n",
       "    <tr>\n",
       "      <th>1455</th>\n",
       "      <td>1456</td>\n",
       "      <td>60</td>\n",
       "      <td>3</td>\n",
       "      <td>62.0</td>\n",
       "      <td>7917</td>\n",
       "      <td>1</td>\n",
       "      <td>1</td>\n",
       "      <td>3</td>\n",
       "      <td>3</td>\n",
       "      <td>0</td>\n",
       "      <td>...</td>\n",
       "      <td>0</td>\n",
       "      <td>0</td>\n",
       "      <td>2</td>\n",
       "      <td>2</td>\n",
       "      <td>0</td>\n",
       "      <td>8</td>\n",
       "      <td>2007</td>\n",
       "      <td>8</td>\n",
       "      <td>4</td>\n",
       "      <td>175000</td>\n",
       "    </tr>\n",
       "    <tr>\n",
       "      <th>1456</th>\n",
       "      <td>1457</td>\n",
       "      <td>20</td>\n",
       "      <td>3</td>\n",
       "      <td>85.0</td>\n",
       "      <td>13175</td>\n",
       "      <td>1</td>\n",
       "      <td>1</td>\n",
       "      <td>3</td>\n",
       "      <td>3</td>\n",
       "      <td>0</td>\n",
       "      <td>...</td>\n",
       "      <td>0</td>\n",
       "      <td>1</td>\n",
       "      <td>2</td>\n",
       "      <td>2</td>\n",
       "      <td>0</td>\n",
       "      <td>2</td>\n",
       "      <td>2010</td>\n",
       "      <td>8</td>\n",
       "      <td>4</td>\n",
       "      <td>210000</td>\n",
       "    </tr>\n",
       "    <tr>\n",
       "      <th>1457</th>\n",
       "      <td>1458</td>\n",
       "      <td>70</td>\n",
       "      <td>3</td>\n",
       "      <td>66.0</td>\n",
       "      <td>9042</td>\n",
       "      <td>1</td>\n",
       "      <td>1</td>\n",
       "      <td>3</td>\n",
       "      <td>3</td>\n",
       "      <td>0</td>\n",
       "      <td>...</td>\n",
       "      <td>0</td>\n",
       "      <td>2</td>\n",
       "      <td>0</td>\n",
       "      <td>2</td>\n",
       "      <td>2500</td>\n",
       "      <td>5</td>\n",
       "      <td>2010</td>\n",
       "      <td>8</td>\n",
       "      <td>4</td>\n",
       "      <td>266500</td>\n",
       "    </tr>\n",
       "    <tr>\n",
       "      <th>1458</th>\n",
       "      <td>1459</td>\n",
       "      <td>20</td>\n",
       "      <td>3</td>\n",
       "      <td>68.0</td>\n",
       "      <td>9717</td>\n",
       "      <td>1</td>\n",
       "      <td>1</td>\n",
       "      <td>3</td>\n",
       "      <td>3</td>\n",
       "      <td>0</td>\n",
       "      <td>...</td>\n",
       "      <td>0</td>\n",
       "      <td>1</td>\n",
       "      <td>2</td>\n",
       "      <td>2</td>\n",
       "      <td>0</td>\n",
       "      <td>4</td>\n",
       "      <td>2010</td>\n",
       "      <td>8</td>\n",
       "      <td>4</td>\n",
       "      <td>142125</td>\n",
       "    </tr>\n",
       "    <tr>\n",
       "      <th>1459</th>\n",
       "      <td>1460</td>\n",
       "      <td>20</td>\n",
       "      <td>3</td>\n",
       "      <td>75.0</td>\n",
       "      <td>9937</td>\n",
       "      <td>1</td>\n",
       "      <td>0</td>\n",
       "      <td>3</td>\n",
       "      <td>3</td>\n",
       "      <td>0</td>\n",
       "      <td>...</td>\n",
       "      <td>0</td>\n",
       "      <td>0</td>\n",
       "      <td>2</td>\n",
       "      <td>2</td>\n",
       "      <td>0</td>\n",
       "      <td>6</td>\n",
       "      <td>2008</td>\n",
       "      <td>8</td>\n",
       "      <td>4</td>\n",
       "      <td>147500</td>\n",
       "    </tr>\n",
       "  </tbody>\n",
       "</table>\n",
       "<p>1460 rows × 81 columns</p>\n",
       "</div>"
      ],
      "text/plain": [
       "        Id  MSSubClass  MSZoning  LotFrontage  LotArea  Street  Alley  \\\n",
       "0        1          60         3         65.0     8450       1      0   \n",
       "1        2          20         3         80.0     9600       1      0   \n",
       "2        3          60         3         68.0    11250       1      1   \n",
       "3        4          70         3         60.0     9550       1      0   \n",
       "4        5          60         3         84.0    14260       1      1   \n",
       "...    ...         ...       ...          ...      ...     ...    ...   \n",
       "1455  1456          60         3         62.0     7917       1      1   \n",
       "1456  1457          20         3         85.0    13175       1      1   \n",
       "1457  1458          70         3         66.0     9042       1      1   \n",
       "1458  1459          20         3         68.0     9717       1      1   \n",
       "1459  1460          20         3         75.0     9937       1      0   \n",
       "\n",
       "      LotShape  LandContour  Utilities  ...  PoolArea  PoolQC  Fence  \\\n",
       "0            3            3          0  ...         0       2      2   \n",
       "1            3            3          0  ...         0       2      2   \n",
       "2            0            3          0  ...         0       2      1   \n",
       "3            0            3          0  ...         0       2      0   \n",
       "4            0            3          0  ...         0       2      1   \n",
       "...        ...          ...        ...  ...       ...     ...    ...   \n",
       "1455         3            3          0  ...         0       0      2   \n",
       "1456         3            3          0  ...         0       1      2   \n",
       "1457         3            3          0  ...         0       2      0   \n",
       "1458         3            3          0  ...         0       1      2   \n",
       "1459         3            3          0  ...         0       0      2   \n",
       "\n",
       "      MiscFeature  MiscVal  MoSold  YrSold  SaleType  SaleCondition  SalePrice  \n",
       "0               2        0       2    2008         8              4     208500  \n",
       "1               2        0       5    2007         8              4     181500  \n",
       "2               2        0       9    2008         8              4     223500  \n",
       "3               2        0       2    2006         8              0     140000  \n",
       "4               2        0      12    2008         8              4     250000  \n",
       "...           ...      ...     ...     ...       ...            ...        ...  \n",
       "1455            2        0       8    2007         8              4     175000  \n",
       "1456            2        0       2    2010         8              4     210000  \n",
       "1457            2     2500       5    2010         8              4     266500  \n",
       "1458            2        0       4    2010         8              4     142125  \n",
       "1459            2        0       6    2008         8              4     147500  \n",
       "\n",
       "[1460 rows x 81 columns]"
      ]
     },
     "execution_count": 24,
     "metadata": {},
     "output_type": "execute_result"
    }
   ],
   "source": [
    "train_df"
   ]
  },
  {
   "cell_type": "markdown",
   "metadata": {},
   "source": [
    "######  <span style=\"font-family: Arial; font-weight:bold;font-size:1.0em;color:#4a3dbb\">Split the data into train and test data"
   ]
  },
  {
   "cell_type": "code",
   "execution_count": 25,
   "metadata": {},
   "outputs": [],
   "source": [
    "from sklearn.model_selection import train_test_split\n",
    "X = train_df.drop('SalePrice',axis = 1)\n",
    "y = train_df['SalePrice']\n",
    "X_train, X_test, y_train, y_test = train_test_split(X, y, test_size=0.20, random_state=42)"
   ]
  },
  {
   "cell_type": "code",
   "execution_count": 26,
   "metadata": {},
   "outputs": [
    {
     "data": {
      "text/plain": [
       "((1168, 80), (292, 80), (1168,), (292,))"
      ]
     },
     "execution_count": 26,
     "metadata": {},
     "output_type": "execute_result"
    }
   ],
   "source": [
    "X_train.shape, X_test.shape, y_train.shape, y_test.shape"
   ]
  },
  {
   "cell_type": "markdown",
   "metadata": {},
   "source": [
    "######  <span style=\"font-family: Arial; font-weight:bold;font-size:1.0em;color:#4a3dbb\">Checking columns"
   ]
  },
  {
   "cell_type": "code",
   "execution_count": 27,
   "metadata": {},
   "outputs": [
    {
     "data": {
      "text/plain": [
       "((1168, 80), (1168,), (292, 80))"
      ]
     },
     "execution_count": 27,
     "metadata": {},
     "output_type": "execute_result"
    }
   ],
   "source": [
    "#if shapes are not same (columns) and remove excess ones\n",
    "for col in list(X_train.columns):\n",
    "    if col not in list(X_test.columns):\n",
    "        X_train = X_train.drop([col], axis = 1)\n",
    "\n",
    "X_train.shape, y_train.shape, X_test.shape"
   ]
  },
  {
   "cell_type": "markdown",
   "metadata": {},
   "source": [
    "######  <span style=\"font-family: Arial; font-weight:bold;font-size:1.0em;color:#4a3dbb\">Recursive Feature Elimination (RFE)\n",
    "    \n",
    "- RFE method is used to reduce the dataset. It is an efficient way to select the required features to train the models."
   ]
  },
  {
   "cell_type": "code",
   "execution_count": 28,
   "metadata": {},
   "outputs": [
    {
     "data": {
      "text/plain": [
       "(1460, 40)"
      ]
     },
     "metadata": {},
     "output_type": "display_data"
    },
    {
     "data": {
      "text/plain": [
       "(1460,)"
      ]
     },
     "metadata": {},
     "output_type": "display_data"
    }
   ],
   "source": [
    "#Recursive Feature Elimination\n",
    "\n",
    "from sklearn.svm import SVR\n",
    "from sklearn.feature_selection import RFE\n",
    "estimator = SVR(kernel=\"linear\")\n",
    "#Use RFE to remove not significant features from the initial model.\n",
    "selector = RFE(estimator, step=1)\n",
    "selector = selector.fit(X, y)\n",
    "#Test new model\n",
    "#New features dataframe containing only selected features through RFE\n",
    "X_RFE = X[X.columns[selector.support_]]\n",
    "# lin_reg(X_RFE, y)\n",
    "\n",
    "display(X_RFE.shape, y.shape)\n",
    "\n"
   ]
  },
  {
   "cell_type": "code",
   "execution_count": 29,
   "metadata": {},
   "outputs": [
    {
     "data": {
      "text/html": [
       "<div>\n",
       "<style scoped>\n",
       "    .dataframe tbody tr th:only-of-type {\n",
       "        vertical-align: middle;\n",
       "    }\n",
       "\n",
       "    .dataframe tbody tr th {\n",
       "        vertical-align: top;\n",
       "    }\n",
       "\n",
       "    .dataframe thead th {\n",
       "        text-align: right;\n",
       "    }\n",
       "</style>\n",
       "<table border=\"1\" class=\"dataframe\">\n",
       "  <thead>\n",
       "    <tr style=\"text-align: right;\">\n",
       "      <th></th>\n",
       "      <th>split_data</th>\n",
       "      <th>shape</th>\n",
       "    </tr>\n",
       "  </thead>\n",
       "  <tbody>\n",
       "    <tr>\n",
       "      <th>0</th>\n",
       "      <td>X_train</td>\n",
       "      <td>(1168, 40)</td>\n",
       "    </tr>\n",
       "    <tr>\n",
       "      <th>1</th>\n",
       "      <td>X_test</td>\n",
       "      <td>(292, 40)</td>\n",
       "    </tr>\n",
       "    <tr>\n",
       "      <th>2</th>\n",
       "      <td>y_train</td>\n",
       "      <td>(1168,)</td>\n",
       "    </tr>\n",
       "    <tr>\n",
       "      <th>3</th>\n",
       "      <td>y_test</td>\n",
       "      <td>(292,)</td>\n",
       "    </tr>\n",
       "  </tbody>\n",
       "</table>\n",
       "</div>"
      ],
      "text/plain": [
       "  split_data       shape\n",
       "0    X_train  (1168, 40)\n",
       "1     X_test   (292, 40)\n",
       "2    y_train     (1168,)\n",
       "3     y_test      (292,)"
      ]
     },
     "execution_count": 29,
     "metadata": {},
     "output_type": "execute_result"
    }
   ],
   "source": [
    "#Datset split\n",
    "X_train, X_test, y_train, y_test = train_test_split(X_RFE, y, test_size=0.20, random_state=42)\n",
    "\n",
    "datset = ['X_train','X_test','y_train','y_test']\n",
    "shape = [X_train.shape, X_test.shape,y_train.shape, y_test.shape]\n",
    "\n",
    "dataset = pd.DataFrame({\n",
    "    'split_data': datset,\n",
    "    'shape': shape\n",
    "})\n",
    "dataset"
   ]
  },
  {
   "cell_type": "markdown",
   "metadata": {},
   "source": [
    "######  <span style=\"font-family: Arial; font-weight:bold;font-size:1.0em;color:#4a3dbb\">Algorithms: before finalising the Grid search paramaters "
   ]
  },
  {
   "cell_type": "code",
   "execution_count": 31,
   "metadata": {},
   "outputs": [
    {
     "name": "stdout",
     "output_type": "stream",
     "text": [
      "Lasso\n",
      "R-squared for Train: 0.831\n",
      "R-squared for Test: 0.839\n",
      "GradientBoostingRegressor\n",
      "R-squared for Train: 0.960\n",
      "R-squared for Test: 0.891\n",
      "RandomForestRegressor\n",
      "R-squared for Train: 0.977\n",
      "R-squared for Test: 0.884\n",
      "XGBRegressor\n",
      "R-squared for Train: 1.000\n",
      "R-squared for Test: 0.891\n"
     ]
    }
   ],
   "source": [
    "# ALGORITHM SELECTION AND INITIALIZATION\n",
    "models = [Lasso(), GradientBoostingRegressor(),RandomForestRegressor(), xgb.XGBRegressor()]\n",
    "\n",
    "# CREATING TABLE TO COMPARE MODEL ACCURACY\n",
    "columns = ['Name', 'Train Accuracy Mean', 'Test Accuracy']\n",
    "before_model_compare = pd.DataFrame(columns = columns)\n",
    "\n",
    "# INDEXING THROUGH MODELS AND SAVING PERFORMANCE TO TABLE\n",
    "row_index = 0\n",
    "percent = 100 \n",
    "for alg in models:\n",
    "    model_name = alg.__class__.__name__\n",
    "    print(model_name)\n",
    "    before_model_compare.loc[row_index, 'Name'] = model_name\n",
    "    alg.fit(X_train, y_train)\n",
    "    y_hat = alg.predict(X_test)\n",
    "    print (\"R-squared for Train: %.3f\" %alg.score(X_train, y_train)) \n",
    "    print(\"R-squared for Test: %.3f\" %alg.score(X_test, y_test))\n",
    "    "
   ]
  },
  {
   "cell_type": "markdown",
   "metadata": {},
   "source": [
    "######  <span style=\"font-family: Arial; font-weight:bold;font-size:1.0em;color:#4a3dbb\">Lasso Regression\n",
    "    \n",
    "- Lasso (Least Absolute Shrinkage Selector Operator) Regression reduces the number of dependent variables, in a similar case of ridge regression.\n",
    "- Lasso regression performs L1 regularization, which adds a penalty equal to the absolute value of the magnitude of coefficients.\n",
    "- Lasso regression is to obtain the subset of predictors that minimizes prediction error for a quantitative response variable.\n",
    "    "
   ]
  },
  {
   "cell_type": "code",
   "execution_count": 32,
   "metadata": {},
   "outputs": [
    {
     "data": {
      "text/plain": [
       "GridSearchCV(cv=2, estimator=Lasso(), n_jobs=-1,\n",
       "             param_grid={'alpha': [0.0005, 0.0001], 'copy_X': [True],\n",
       "                         'fit_intercept': [True], 'max_iter': [100, 200, 300],\n",
       "                         'normalize': [False], 'precompute': [False],\n",
       "                         'random_state': [None], 'selection': ['random'],\n",
       "                         'tol': [0.01]})"
      ]
     },
     "execution_count": 32,
     "metadata": {},
     "output_type": "execute_result"
    }
   ],
   "source": [
    "#LASSO regression Grid search paramaters and best estimator\n",
    "lss = Lasso()\n",
    "lss_params = {'alpha': [5e-4, 0.0001], 'copy_X': [True], 'fit_intercept': [True], 'normalize': [False], \n",
    "                   'precompute': [False],'max_iter': [100,200,300], 'tol': [1e-2], 'selection': ['random'], \n",
    "                   'random_state': [None]}\n",
    "grid_lss = GridSearchCV(estimator=lss, param_grid = lss_params, cv = 2, n_jobs=-1)\n",
    "grid_lss.fit(X_train, y_train)"
   ]
  },
  {
   "cell_type": "code",
   "execution_count": 33,
   "metadata": {},
   "outputs": [
    {
     "name": "stdout",
     "output_type": "stream",
     "text": [
      " Results from Grid Search \n",
      "\n",
      " The best estimator across ALL searched params:\n",
      " Lasso(alpha=0.0001, max_iter=100, selection='random', tol=0.01)\n",
      "\n",
      " The best score across ALL searched params:\n",
      " 0.7783281885823723\n",
      "\n",
      " The best parameters across ALL searched params:\n",
      " {'alpha': 0.0001, 'copy_X': True, 'fit_intercept': True, 'max_iter': 100, 'normalize': False, 'precompute': False, 'random_state': None, 'selection': 'random', 'tol': 0.01}\n"
     ]
    }
   ],
   "source": [
    "print(\" Results from Grid Search \" )\n",
    "print(\"\\n The best estimator across ALL searched params:\\n\",grid_lss.best_estimator_)\n",
    "print(\"\\n The best score across ALL searched params:\\n\",grid_lss.best_score_)\n",
    "print(\"\\n The best parameters across ALL searched params:\\n\",grid_lss.best_params_)"
   ]
  },
  {
   "cell_type": "code",
   "execution_count": 34,
   "metadata": {},
   "outputs": [
    {
     "name": "stdout",
     "output_type": "stream",
     "text": [
      "Train accuracy: 83.059\n",
      "Test accuracy: 83.905\n",
      "Mean Absolute Error: 21593.116979319577\n",
      "Root Mean Squared Error test: 35136.50022955477\n",
      "Root Mean Squared Error train: 31787.68784549066\n",
      "Mean Predicted Selling Price: 176730.6326584539\n",
      "Mean Selling Price: 178839.81164383562\n"
     ]
    }
   ],
   "source": [
    "lss_param_grid = {'alpha': 0.0005, 'max_iter': 100, 'selection': 'random', 'random_state': None}\n",
    "\n",
    "lss_model = Lasso(**lss_param_grid)\n",
    "lss_model.fit(X_train, y_train)\n",
    "y_hatlss = lss_model.predict(X_test)\n",
    "\n",
    "lss_train_acc = lss_model.score(X_train, y_train)\n",
    "lss_test_acc = lss_model.score(X_test, y_test)\n",
    "print (\"Train accuracy: %.3f\" %(lss_train_acc*100)) \n",
    "print(\"Test accuracy: %.3f\" %(lss_test_acc*100))\n",
    "lss_mae = mean_absolute_error(y_test, y_hatlss)\n",
    "print('Mean Absolute Error:', mean_absolute_error(y_test, y_hatlss))\n",
    "print('Root Mean Squared Error test:', np.sqrt(mean_squared_error(y_test, y_hatlss)))\n",
    "y_hat_train = lss_model.predict(X_train)\n",
    "print('Root Mean Squared Error train:', np.sqrt(mean_squared_error(y_train, y_hat_train)))\n",
    "\n",
    "#Compare predicted and actual values\n",
    "print('Mean Predicted Selling Price:', y_hatlss.mean())\n",
    "print('Mean Selling Price:', y_test.mean())"
   ]
  },
  {
   "cell_type": "markdown",
   "metadata": {},
   "source": [
    "____\n",
    "_____\n",
    "\n",
    "######  <span style=\"font-family: Arial; font-weight:bold;font-size:1.0em;color:#4a3dbb\">Gradient Boosting Regressor (GBR)\n",
    "- GBR is a ensemble decision tree regressor models.\n",
    "- Gradient boosting is one of the most poweful technique for building predictive models.\n",
    "- At each step, a new tree is trained against the negative gradient of the loss function."
   ]
  },
  {
   "cell_type": "code",
   "execution_count": 35,
   "metadata": {},
   "outputs": [
    {
     "data": {
      "text/plain": [
       "GridSearchCV(cv=2, estimator=GradientBoostingRegressor(), n_jobs=-1,\n",
       "             param_grid={'criterion': ['mse'], 'learning_rate': [0.1, 0.05],\n",
       "                         'max_depth': [3], 'n_estimators': [50, 100, 200]})"
      ]
     },
     "execution_count": 35,
     "metadata": {},
     "output_type": "execute_result"
    }
   ],
   "source": [
    "GBR = GradientBoostingRegressor()\n",
    "params = {'n_estimators':[50,100,200], 'max_depth':[3], 'learning_rate':[0.1,0.05], 'criterion':['mse']}\n",
    "grid_GBR = GridSearchCV(estimator=GBR, param_grid = params, cv = 2, n_jobs=-1)\n",
    "grid_GBR.fit(X_train, y_train)"
   ]
  },
  {
   "cell_type": "code",
   "execution_count": 36,
   "metadata": {},
   "outputs": [
    {
     "name": "stdout",
     "output_type": "stream",
     "text": [
      " Results from Grid Search \n",
      "\n",
      " The best estimator across ALL searched params:\n",
      " GradientBoostingRegressor(criterion='mse', n_estimators=200)\n",
      "\n",
      " The best score across ALL searched params:\n",
      " 0.8288917436976471\n",
      "\n",
      " The best parameters across ALL searched params:\n",
      " {'criterion': 'mse', 'learning_rate': 0.1, 'max_depth': 3, 'n_estimators': 200}\n"
     ]
    }
   ],
   "source": [
    "print(\" Results from Grid Search \" )\n",
    "print(\"\\n The best estimator across ALL searched params:\\n\",grid_GBR.best_estimator_)\n",
    "print(\"\\n The best score across ALL searched params:\\n\",grid_GBR.best_score_)\n",
    "print(\"\\n The best parameters across ALL searched params:\\n\",grid_GBR.best_params_)"
   ]
  },
  {
   "cell_type": "code",
   "execution_count": 37,
   "metadata": {},
   "outputs": [
    {
     "name": "stdout",
     "output_type": "stream",
     "text": [
      "Train accuracy: 97.568\n",
      "Test accuracy: 89.375\n",
      "Mean Absolute Error: 21593.116979319577\n",
      "Root Mean Squared Error test: 28548.343439493903\n",
      "Root Mean Squared Error train: 12043.550396453695\n",
      "Mean Predicted Selling Price: 179418.97864676296\n",
      "Mean Selling Price: 178839.81164383562\n"
     ]
    }
   ],
   "source": [
    "params = {'n_estimators':200, 'max_depth':3, 'learning_rate':0.1, 'criterion':'mse'}\n",
    "GBR_model = GradientBoostingRegressor(**params)\n",
    "GBR_model.fit(X_train, y_train)\n",
    "y_hatgs = GBR_model.predict(X_test)\n",
    "\n",
    "gbr_train_acc = GBR_model.score(X_train, y_train)\n",
    "gbr_test_acc = GBR_model.score(X_test, y_test)\n",
    "print (\"Train accuracy: %.3f\" %(gbr_train_acc*100.))\n",
    "print(\"Test accuracy: %.3f\" %(gbr_test_acc*100))\n",
    "\n",
    "gbr_mae = mean_absolute_error(y_test, y_hatgs)\n",
    "print('Mean Absolute Error:', mean_absolute_error(y_test, y_hatlss))\n",
    "print('Root Mean Squared Error test:', np.sqrt(mean_squared_error(y_test, y_hatgs)))\n",
    "y_hat_train = GBR_model.predict(X_train)\n",
    "print('Root Mean Squared Error train:', np.sqrt(mean_squared_error(y_train, y_hat_train)))\n",
    "\n",
    "#Compare predicted and actual values\n",
    "print('Mean Predicted Selling Price:', y_hatgs.mean())\n",
    "print('Mean Selling Price:', y_test.mean())"
   ]
  },
  {
   "cell_type": "markdown",
   "metadata": {},
   "source": [
    "____\n",
    "____\n",
    "\n",
    "######  <span style=\"font-family: Arial; font-weight:bold;font-size:1.0em;color:#4a3dbb\">Random Forest Regressor (RFR)\n",
    "- A RFR is a meta estimator that fits a number of classifying decision trees on various sub-samples of the dataset and uses averaging to improve the predective accuracy and control over-fitting."
   ]
  },
  {
   "cell_type": "code",
   "execution_count": 38,
   "metadata": {},
   "outputs": [
    {
     "data": {
      "text/plain": [
       "GridSearchCV(cv=2, estimator=RandomForestRegressor(), n_jobs=-1,\n",
       "             param_grid={'bootstrap': [True], 'max_depth': [80, 90, 100, 110],\n",
       "                         'max_features': [2, 3], 'min_samples_leaf': [2, 3, 4],\n",
       "                         'min_samples_split': [8, 10, 12],\n",
       "                         'n_estimators': [50, 100, 150]})"
      ]
     },
     "execution_count": 38,
     "metadata": {},
     "output_type": "execute_result"
    }
   ],
   "source": [
    "#Random Forest Regressor\n",
    "RFR_params = {'bootstrap':[True], 'max_depth':[80,90,100,110], 'max_features':[2,3],'min_samples_leaf':[2,3,4],\n",
    "             'min_samples_split':[8,10,12],'n_estimators':[50,100,150]}\n",
    "\n",
    "RF = RandomForestRegressor()\n",
    "grid_RF = GridSearchCV(estimator=RF, param_grid = RFR_params, cv = 2, n_jobs=-1)\n",
    "grid_RF.fit(X_train, y_train)\n"
   ]
  },
  {
   "cell_type": "code",
   "execution_count": 39,
   "metadata": {},
   "outputs": [
    {
     "name": "stdout",
     "output_type": "stream",
     "text": [
      " Results from Grid Search \n",
      "\n",
      " The best estimator across ALL searched params:\n",
      " RandomForestRegressor(max_depth=100, max_features=3, min_samples_leaf=2,\n",
      "                      min_samples_split=8)\n",
      "\n",
      " The best score across ALL searched params:\n",
      " 0.796307986196051\n",
      "\n",
      " The best parameters across ALL searched params:\n",
      " {'bootstrap': True, 'max_depth': 100, 'max_features': 3, 'min_samples_leaf': 2, 'min_samples_split': 8, 'n_estimators': 100}\n"
     ]
    }
   ],
   "source": [
    "print(\" Results from Grid Search \" )\n",
    "print(\"\\n The best estimator across ALL searched params:\\n\",grid_RF.best_estimator_)\n",
    "print(\"\\n The best score across ALL searched params:\\n\",grid_RF.best_score_)\n",
    "print(\"\\n The best parameters across ALL searched params:\\n\",grid_RF.best_params_)"
   ]
  },
  {
   "cell_type": "code",
   "execution_count": 40,
   "metadata": {},
   "outputs": [
    {
     "name": "stdout",
     "output_type": "stream",
     "text": [
      "Train accuracy: 0.951\n",
      "Test accuracy: 0.873\n",
      "Mean Absolute Error: 19586.319749043803\n",
      "Root Mean Squared Error test: 31264.228383252277\n",
      "Root Mean Squared Error train: 17010.279949113086\n",
      "Mean Predicted Selling Price: 178596.1768341365\n",
      "Mean Selling Price: 178839.81164383562\n"
     ]
    }
   ],
   "source": [
    "RFR_param_grid = {'n_estimators': 100, 'max_features': 'auto', 'max_depth': 90, 'min_samples_split': 8,'min_samples_leaf': 2}\n",
    "\n",
    "RFR_model = RandomForestRegressor(**RFR_param_grid)\n",
    "RFR_model.fit(X_train, y_train)\n",
    "y_hatgs = RFR_model.predict(X_test)\n",
    "\n",
    "rfr_train_acc = RFR_model.score(X_train, y_train)\n",
    "rfr_test_acc = RFR_model.score(X_test, y_test)\n",
    "print (\"Train accuracy: %.3f\" %RFR_model.score(X_train, y_train)) \n",
    "print(\"Test accuracy: %.3f\" %RFR_model.score(X_test, y_test))\n",
    "\n",
    "rfr_mae = mean_absolute_error(y_test, y_hatgs)\n",
    "print('Mean Absolute Error:', mean_absolute_error(y_test, y_hatgs))\n",
    "print('Root Mean Squared Error test:', np.sqrt(mean_squared_error(y_test, y_hatgs)))\n",
    "y_hat_train = RFR_model.predict(X_train)\n",
    "print('Root Mean Squared Error train:', np.sqrt(mean_squared_error(y_train, y_hat_train)))\n",
    "\n",
    "\n",
    "#Compare predicted and actual values\n",
    "print('Mean Predicted Selling Price:', y_hatgs.mean())\n",
    "print('Mean Selling Price:', y_test.mean())"
   ]
  },
  {
   "cell_type": "markdown",
   "metadata": {},
   "source": [
    "____\n",
    "_____\n",
    "\n",
    "######  <span style=\"font-family: Arial; font-weight:bold;font-size:1.0em;color:#4a3dbb\">ElasticNet Regressor (ENR)\n",
    "- ENR is a regularized regression method that linearly combines the L1 and L2 penalties of the Lasso and Ridge methods."
   ]
  },
  {
   "cell_type": "code",
   "execution_count": 41,
   "metadata": {},
   "outputs": [
    {
     "data": {
      "text/plain": [
       "GridSearchCV(cv=2, estimator=ElasticNet(), n_jobs=-1,\n",
       "             param_grid={'alpha': [0.001, 0.0005], 'copy_X': [True],\n",
       "                         'fit_intercept': [True], 'l1_ratio': [0.6, 0.9],\n",
       "                         'max_iter': [50, 100, 200], 'normalize': [False],\n",
       "                         'precompute': [False], 'random_state': [None],\n",
       "                         'selection': ['random'], 'tol': [0.001]})"
      ]
     },
     "execution_count": 41,
     "metadata": {},
     "output_type": "execute_result"
    }
   ],
   "source": [
    "#ElasticNet Regressor\n",
    "ENR_params = {'alpha': [1e-3, 0.0005], 'copy_X': [True], 'l1_ratio': [0.6, 0.9], 'fit_intercept': [True], \n",
    "                 'normalize': [False],'precompute': [False], 'max_iter': [50,100,200], 'tol': [1e-3], 'selection': ['random'],\n",
    "                 'random_state': [None]}\n",
    "\n",
    "ENR = ElasticNet()\n",
    "grid_ENR = GridSearchCV(estimator=ENR, param_grid = ENR_params, cv = 2, n_jobs=-1)\n",
    "grid_ENR.fit(X_train, y_train)"
   ]
  },
  {
   "cell_type": "code",
   "execution_count": 42,
   "metadata": {},
   "outputs": [
    {
     "name": "stdout",
     "output_type": "stream",
     "text": [
      " Results from Grid Search \n",
      "\n",
      " The best estimator across ALL searched params:\n",
      " ElasticNet(alpha=0.001, l1_ratio=0.6, max_iter=50, selection='random',\n",
      "           tol=0.001)\n",
      "\n",
      " The best score across ALL searched params:\n",
      " 0.7790978345632817\n",
      "\n",
      " The best parameters across ALL searched params:\n",
      " {'alpha': 0.001, 'copy_X': True, 'fit_intercept': True, 'l1_ratio': 0.6, 'max_iter': 50, 'normalize': False, 'precompute': False, 'random_state': None, 'selection': 'random', 'tol': 0.001}\n"
     ]
    }
   ],
   "source": [
    "print(\" Results from Grid Search \" )\n",
    "print(\"\\n The best estimator across ALL searched params:\\n\",grid_ENR.best_estimator_)\n",
    "print(\"\\n The best score across ALL searched params:\\n\",grid_ENR.best_score_)\n",
    "print(\"\\n The best parameters across ALL searched params:\\n\",grid_ENR.best_params_)"
   ]
  },
  {
   "cell_type": "code",
   "execution_count": 43,
   "metadata": {},
   "outputs": [
    {
     "name": "stdout",
     "output_type": "stream",
     "text": [
      "Train accuracy: 0.831\n",
      "Test accuracy: 0.839\n",
      "Mean Absolute Error: 21591.608534243893\n",
      "Root Mean Squared Error test: 35138.89270723226\n",
      "Root Mean Squared Error train: 31787.98424812896\n",
      "Mean Predicted Selling Price: 176718.54215297563\n",
      "Mean Selling Price: 178839.81164383562\n"
     ]
    }
   ],
   "source": [
    "ENR_param_grid = {'alpha': 1e-3, 'copy_X': True, 'l1_ratio': 0.6, 'fit_intercept': True, \n",
    "                 'normalize': False,'precompute': False, 'max_iter': 50, 'tol': 1e-3, 'selection': 'random'}\n",
    "\n",
    "ENR_model = ElasticNet(**ENR_param_grid)\n",
    "ENR_model.fit(X_train, y_train)\n",
    "y_hatenr = ENR_model.predict(X_test)\n",
    "\n",
    "enr_train_acc = ENR_model.score(X_train, y_train)\n",
    "enr_test_acc = ENR_model.score(X_test, y_test)\n",
    "print (\"Train accuracy: %.3f\" %ENR_model.score(X_train, y_train)) \n",
    "print(\"Test accuracy: %.3f\" %ENR_model.score(X_test, y_test))\n",
    "\n",
    "enr_mae = mean_absolute_error(y_test, y_hatenr)\n",
    "print('Mean Absolute Error:', mean_absolute_error(y_test, y_hatenr))\n",
    "print('Root Mean Squared Error test:', np.sqrt(mean_squared_error(y_test, y_hatenr)))\n",
    "y_hat_train = ENR_model.predict(X_train)\n",
    "print('Root Mean Squared Error train:', np.sqrt(mean_squared_error(y_train, y_hat_train)))\n",
    "\n",
    "\n",
    "#Compare predicted and actual values\n",
    "print('Mean Predicted Selling Price:', y_hatenr.mean())\n",
    "print('Mean Selling Price:', y_test.mean())"
   ]
  },
  {
   "cell_type": "markdown",
   "metadata": {},
   "source": [
    "___\n",
    "____\n",
    "######  <span style=\"font-family: Arial; font-weight:bold;font-size:1.0em;color:#4a3dbb\">XGBoost Regressor (XGBR)\n",
    "- XGBoost is an efficient implementation of gradient boosting that can be used for regression predective modeling.\n",
    "    "
   ]
  },
  {
   "cell_type": "code",
   "execution_count": 44,
   "metadata": {},
   "outputs": [],
   "source": [
    "#This one take long time but very useful for finding the grid seacrh and parameters selection\n",
    "# #XGBRegressor\n",
    "# XGB_params = {'max_depth': [3], 'learning_rate': [0.1, 0.05], 'n_estimators': [100,200,300], 'booster': ['gbtree'], \n",
    "#                   'gamma': [0, 0.0468], 'reg_alpha': [0.1, 0.4640], 'reg_lambda': [0.5,0.7, 0.8571], \n",
    "#                   'max_delta_step': [0], 'min_child_weight': [1, 1.7817], 'colsample_bytree': [.5, 0.4603],\n",
    "#                   'colsample_bylevel': [0.2], 'scale_pos_weight': [1]}\n",
    "\n",
    "# xgb1 = xgb.XGBRegressor()\n",
    "# grid_xgb = GridSearchCV(estimator=xgb1, param_grid = XGB_params, cv = 2, n_jobs=-1)\n",
    "# grid_xgb.fit(X_train, y_train)"
   ]
  },
  {
   "cell_type": "code",
   "execution_count": 45,
   "metadata": {},
   "outputs": [],
   "source": [
    "# print(\" Results from Grid Search \" )\n",
    "# print(\"\\n The best estimator across ALL searched params:\\n\",grid_xgb.best_estimator_)\n",
    "# print(\"\\n The best score across ALL searched params:\\n\",grid_xgb.best_score_)\n",
    "# print(\"\\n The best parameters across ALL searched params:\\n\",grid_xgb.best_params_)"
   ]
  },
  {
   "cell_type": "code",
   "execution_count": 46,
   "metadata": {},
   "outputs": [
    {
     "name": "stdout",
     "output_type": "stream",
     "text": [
      "Train accuracy: 0.955\n",
      "Test accuracy: 0.894\n",
      "Mean Absolute Error: 18176.018527932363\n",
      "Root Mean Squared Error test: 28520.089904019744\n",
      "Root Mean Squared Error train: 16438.43222851255\n",
      "Mean Predicted Selling Price: 179310.94\n",
      "Mean Selling Price: 178839.81164383562\n"
     ]
    }
   ],
   "source": [
    "XGB_param_grid = {'max_depth': 3, 'learning_rate': 0.05, 'n_estimators': 300, 'booster': 'gbtree', \n",
    "                  'gamma': 0, 'reg_alpha': 0.1, 'reg_lambda': 0.8571, \n",
    "                  'max_delta_step': 0, 'min_child_weight': 1, 'colsample_bytree': 0.5,\n",
    "                  'colsample_bylevel': 0.2, 'scale_pos_weight': 1}\n",
    "\n",
    "XGB_model = xgb.XGBRegressor(**XGB_param_grid)\n",
    "XGB_model.fit(X_train, y_train)\n",
    "y_hatxgb = XGB_model.predict(X_test)\n",
    "\n",
    "xgbr_train_acc = XGB_model.score(X_train, y_train)\n",
    "xgbr_test_acc = XGB_model.score(X_test, y_test)\n",
    "print (\"Train accuracy: %.3f\" %XGB_model.score(X_train, y_train)) \n",
    "print(\"Test accuracy: %.3f\" %XGB_model.score(X_test, y_test))\n",
    "\n",
    "xgbr_mae = mean_absolute_error(y_test, y_hatxgb)\n",
    "print('Mean Absolute Error:', mean_absolute_error(y_test, y_hatxgb))\n",
    "print('Root Mean Squared Error test:', np.sqrt(mean_squared_error(y_test, y_hatxgb)))\n",
    "y_hat_train = XGB_model.predict(X_train)\n",
    "print('Root Mean Squared Error train:', np.sqrt(mean_squared_error(y_train, y_hat_train)))\n",
    "\n",
    "\n",
    "#Compare predicted and actual values\n",
    "print('Mean Predicted Selling Price:', y_hatxgb.mean())\n",
    "print('Mean Selling Price:', y_test.mean())"
   ]
  },
  {
   "cell_type": "markdown",
   "metadata": {},
   "source": [
    "######  <span style=\"font-family: Arial; font-weight:bold;font-size:1.0em;color:#4a3dbb\">Results DataFrame"
   ]
  },
  {
   "cell_type": "code",
   "execution_count": 47,
   "metadata": {},
   "outputs": [
    {
     "data": {
      "text/html": [
       "<div>\n",
       "<style scoped>\n",
       "    .dataframe tbody tr th:only-of-type {\n",
       "        vertical-align: middle;\n",
       "    }\n",
       "\n",
       "    .dataframe tbody tr th {\n",
       "        vertical-align: top;\n",
       "    }\n",
       "\n",
       "    .dataframe thead th {\n",
       "        text-align: right;\n",
       "    }\n",
       "</style>\n",
       "<table border=\"1\" class=\"dataframe\">\n",
       "  <thead>\n",
       "    <tr style=\"text-align: right;\">\n",
       "      <th></th>\n",
       "      <th>Model</th>\n",
       "      <th>Train_acc</th>\n",
       "      <th>test_acc</th>\n",
       "      <th>MAE</th>\n",
       "    </tr>\n",
       "  </thead>\n",
       "  <tbody>\n",
       "    <tr>\n",
       "      <th>0</th>\n",
       "      <td>LassoReg</td>\n",
       "      <td>0.830590</td>\n",
       "      <td>0.839045</td>\n",
       "      <td>21593.116979</td>\n",
       "    </tr>\n",
       "    <tr>\n",
       "      <th>1</th>\n",
       "      <td>GradientBoostingReg</td>\n",
       "      <td>0.975682</td>\n",
       "      <td>0.893745</td>\n",
       "      <td>17816.493234</td>\n",
       "    </tr>\n",
       "    <tr>\n",
       "      <th>2</th>\n",
       "      <td>RandomForestReg</td>\n",
       "      <td>0.951488</td>\n",
       "      <td>0.872567</td>\n",
       "      <td>19586.319749</td>\n",
       "    </tr>\n",
       "    <tr>\n",
       "      <th>3</th>\n",
       "      <td>ElasticNetreg</td>\n",
       "      <td>0.830586</td>\n",
       "      <td>0.839024</td>\n",
       "      <td>21591.608534</td>\n",
       "    </tr>\n",
       "    <tr>\n",
       "      <th>4</th>\n",
       "      <td>XGBReg</td>\n",
       "      <td>0.954695</td>\n",
       "      <td>0.893956</td>\n",
       "      <td>18176.018528</td>\n",
       "    </tr>\n",
       "  </tbody>\n",
       "</table>\n",
       "</div>"
      ],
      "text/plain": [
       "                 Model  Train_acc  test_acc           MAE\n",
       "0             LassoReg   0.830590  0.839045  21593.116979\n",
       "1  GradientBoostingReg   0.975682  0.893745  17816.493234\n",
       "2      RandomForestReg   0.951488  0.872567  19586.319749\n",
       "3        ElasticNetreg   0.830586  0.839024  21591.608534\n",
       "4               XGBReg   0.954695  0.893956  18176.018528"
      ]
     },
     "execution_count": 47,
     "metadata": {},
     "output_type": "execute_result"
    }
   ],
   "source": [
    "#Accuracies and errors in tabluar format\n",
    "df_res = pd.DataFrame({\n",
    "    \"Model\":['LassoReg','GradientBoostingReg','RandomForestReg', 'ElasticNetreg','XGBReg'],\n",
    "    \"Train_acc\":[lss_train_acc,gbr_train_acc,rfr_train_acc,enr_train_acc,xgbr_train_acc],\n",
    "    \"test_acc\":[lss_test_acc,gbr_test_acc,rfr_test_acc,enr_test_acc,xgbr_test_acc],\n",
    "    \"MAE\":[lss_mae,gbr_mae,rfr_mae,enr_mae,xgbr_mae]\n",
    "})\n",
    "\n",
    "df_res"
   ]
  },
  {
   "cell_type": "code",
   "execution_count": null,
   "metadata": {},
   "outputs": [],
   "source": []
  }
 ],
 "metadata": {
  "kernelspec": {
   "display_name": "Python 3",
   "language": "python",
   "name": "python3"
  },
  "language_info": {
   "codemirror_mode": {
    "name": "ipython",
    "version": 3
   },
   "file_extension": ".py",
   "mimetype": "text/x-python",
   "name": "python",
   "nbconvert_exporter": "python",
   "pygments_lexer": "ipython3",
   "version": "3.8.3"
  }
 },
 "nbformat": 4,
 "nbformat_minor": 4
}
